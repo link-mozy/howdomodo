{
 "cells": [
  {
   "cell_type": "code",
   "execution_count": 6,
   "metadata": {},
   "outputs": [],
   "source": [
    "from pyspark.sql import SQLContext\n",
    "from pyspark.sql.functions import *\n",
    "from pyspark import SparkContext\n",
    "from pyspark.sql.types import *\n",
    "from functools import reduce\n",
    "from pyspark.sql import DataFrame\n",
    "from pyspark.sql import SparkSession\n",
    "from pyspark.sql import Row\n",
    "import pyspark.sql.functions as f\n",
    "import time"
   ]
  },
  {
   "cell_type": "code",
   "execution_count": 7,
   "metadata": {},
   "outputs": [],
   "source": [
    "sc = SparkContext('local')"
   ]
  },
  {
   "cell_type": "code",
   "execution_count": 14,
   "metadata": {},
   "outputs": [],
   "source": [
    "from __future__ import print_function\n",
    "from pyspark.streaming import StreamingContext\n",
    "\n",
    "ssc = StreamingContext(sc, 5)\n",
    "\n",
    "filestream = ssc.textFileStream(\"/home/spark/ch06input\")\n",
    "\n"
   ]
  },
  {
   "cell_type": "code",
   "execution_count": 13,
   "metadata": {},
   "outputs": [
    {
     "data": {
      "text/plain": [
       "<bound method DStream.context of <pyspark.streaming.dstream.DStream object at 0x0000018D45A9AAC0>>"
      ]
     },
     "execution_count": 13,
     "metadata": {},
     "output_type": "execute_result"
    }
   ],
   "source": []
  },
  {
   "cell_type": "code",
   "execution_count": 9,
   "metadata": {},
   "outputs": [],
   "source": [
    "from datetime import datetime\n",
    "def parseOrder(line):\n",
    "  s = line.split(\",\")\n",
    "  try:\n",
    "      if s[6] != \"B\" and s[6] != \"S\":\n",
    "        raise Exception('Wrong format')\n",
    "      return [{\"time\": datetime.strptime(s[0], \"%Y-%m-%d %H:%M:%S\"), \"orderId\": long(s[1]), \"clientId\": long(s[2]), \"symbol\": s[3],\n",
    "      \"amount\": int(s[4]), \"price\": float(s[5]), \"buy\": s[6] == \"B\"}]\n",
    "  except Exception as err:\n",
    "      print(\"Wrong line format (%s): \" % line)\n",
    "      return []\n",
    "\n",
    "orders = filestream.flatMap(parseOrder)"
   ]
  },
  {
   "cell_type": "code",
   "execution_count": 10,
   "metadata": {},
   "outputs": [
    {
     "ename": "SyntaxError",
     "evalue": "invalid syntax (<ipython-input-10-452bc79e651c>, line 2)",
     "output_type": "error",
     "traceback": [
      "\u001b[1;36m  File \u001b[1;32m\"<ipython-input-10-452bc79e651c>\"\u001b[1;36m, line \u001b[1;32m2\u001b[0m\n\u001b[1;33m    numPerType = orders.map(lambda o: (o['buy'], 1L)).reduceByKey(add)\u001b[0m\n\u001b[1;37m                                                  ^\u001b[0m\n\u001b[1;31mSyntaxError\u001b[0m\u001b[1;31m:\u001b[0m invalid syntax\n"
     ]
    }
   ],
   "source": [
    "from operator import add\n",
    "numPerType = orders.map(lambda o: (o['buy'], 1L)).reduceByKey(add)\n",
    "\n",
    "numPerType.repartition(1).saveAsTextFiles(\"/home/spark/ch06output/output\", \"txt\")\n",
    "\n",
    "ssc.start()\n",
    "\n",
    "ssc.stop(False)\n",
    "\n",
    "allCounts = sc.textFile(\"/home/spark/ch06output/output*.txt\")"
   ]
  },
  {
   "cell_type": "code",
   "execution_count": null,
   "metadata": {},
   "outputs": [],
   "source": []
  }
 ],
 "metadata": {
  "kernelspec": {
   "display_name": "Python 3",
   "language": "python",
   "name": "python3"
  },
  "language_info": {
   "codemirror_mode": {
    "name": "ipython",
    "version": 3
   },
   "file_extension": ".py",
   "mimetype": "text/x-python",
   "name": "python",
   "nbconvert_exporter": "python",
   "pygments_lexer": "ipython3",
   "version": "3.8.3"
  }
 },
 "nbformat": 4,
 "nbformat_minor": 4
}
