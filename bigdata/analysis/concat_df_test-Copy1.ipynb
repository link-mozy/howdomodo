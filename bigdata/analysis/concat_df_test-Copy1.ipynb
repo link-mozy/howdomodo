{
 "cells": [
  {
   "cell_type": "code",
   "execution_count": 1,
   "metadata": {},
   "outputs": [],
   "source": [
    "from pyspark.sql import SQLContext\n",
    "from pyspark.sql.functions import *\n",
    "from pyspark import SparkContext\n",
    "from pyspark.sql.types import *\n",
    "from functools import reduce\n",
    "from pyspark.sql import DataFrame\n",
    "from pyspark.sql import SparkSession\n",
    "from pyspark.sql import Row\n",
    "import pyspark.sql.functions as f\n",
    "import time\n",
    "import pyspark\n",
    "import pandas as pd\n",
    "import numpy as np"
   ]
  },
  {
   "cell_type": "code",
   "execution_count": 2,
   "metadata": {},
   "outputs": [],
   "source": [
    "sc = SparkContext('local')\n",
    "sqlContext = SQLContext(sc)\n",
    "spark = SparkSession(sc)"
   ]
  },
  {
   "cell_type": "code",
   "execution_count": 4,
   "metadata": {},
   "outputs": [],
   "source": [
    "csv_list = [\"09\",\"10\",\"11\",\"12\"]\n",
    "df_list = []\n",
    "activityList = [1001,1003,1004,1007,1008,1010,1099,1101,1102,1104,1105,1199,1201,1202,1203,1204,1205,1206,1207,1208,1299,2002,2003,2004,2099,2104,2107,2109,2110,2111,2112,2113,2199,2401,2402,2403,2404,2406,2407,2499,2299,2312,2317,4113,7104,7299,6001,6002,6003,6004,6005,6006,6007,6008,6009,6010,6011,6012,6013,6015,6016,6021,6099,6014,6019,6020,6018,6107,6113,6201,6202,6203,6204,6205,6206,6207,6208,6209,6210,6111,6112,6299,7101,7102,7103,7105,7106,7108,7199]\n",
    "\n",
    "for listname in csv_list:\n",
    "    df = sqlContext.read.format('com.databricks.spark.csv')\\\n",
    "        .options(header='true', inferSchema='true')\\\n",
    "        .load('C:/ssafy/2nd/s03p23a305/bigdata/analysis/2019-'+listname+'-UTF.csv')\\\n",
    "        .cache()\n",
    "    \n",
    "    # 기업 데이터 제거\n",
    "    df = df.filter(df.개인기업구분 != \"기업\")\n",
    "    df = df.filter(df.성별 != \"0.기타\")\n",
    "    \n",
    "    # 활동 분류\n",
    "    df = df.filter(df.가맹점업종코드.isin(activityList))\n",
    "    \n",
    "    removeColList = [\"회원_시도명\", \"회원_시군구명\", \"개인기업구분\", \"매출년월일\", \"결제금액\", \"결제건수\"]\n",
    "    for ls in removeColList:\n",
    "        df = df.drop(ls)\n",
    "    df.persist()\n",
    "    df_list.append(df)"
   ]
  },
  {
   "cell_type": "markdown",
   "metadata": {},
   "source": [
    "start = time.time()  # 시작 시간 저장\n",
    "\n",
    "df_list[0].show()\n",
    "\n",
    "print(\"time :\", time.time() - start)  # 현재시각 - 시작시간 = 실행 시간"
   ]
  },
  {
   "cell_type": "code",
   "execution_count": 206,
   "metadata": {},
   "outputs": [
    {
     "data": {
      "text/plain": [
       "[Row(성별='1.남성', 연령='4.40대', 승인시간대1=13, 가맹점_시도명='강원', 가맹점_시군구명='강릉시', 가맹점_읍면동명='강동면', 가맹점업종코드=2004, 회원수=3),\n",
       " Row(성별='1.남성', 연령='4.40대', 승인시간대1=6, 가맹점_시도명='강원', 가맹점_시군구명='강릉시', 가맹점_읍면동명='강동면', 가맹점업종코드=2104, 회원수=3),\n",
       " Row(성별='1.남성', 연령='4.40대', 승인시간대1=7, 가맹점_시도명='강원', 가맹점_시군구명='강릉시', 가맹점_읍면동명='강동면', 가맹점업종코드=2104, 회원수=5)]"
      ]
     },
     "execution_count": 206,
     "metadata": {},
     "output_type": "execute_result"
    }
   ],
   "source": [
    "df_list[0].take(3)"
   ]
  },
  {
   "cell_type": "code",
   "execution_count": 5,
   "metadata": {},
   "outputs": [],
   "source": [
    "# schema = StructType([StructField(\"성별\", StringType(), True), StructField(\"연령\", StringType(), False),\\\n",
    "#                      StructField(\"승인시간대1\", IntegerType(), True), StructField(\"가맹점업종코드\", IntegerType(), True)])\n",
    "\n",
    "# df_all = sqlContext.createDataFrame([],schema)\n",
    "df_all = df_list[0]\n",
    "# df_all.show()"
   ]
  },
  {
   "cell_type": "code",
   "execution_count": 6,
   "metadata": {},
   "outputs": [
    {
     "name": "stdout",
     "output_type": "stream",
     "text": [
      "1\n",
      "2\n",
      "3\n"
     ]
    }
   ],
   "source": [
    "for idx, df in enumerate(df_list):\n",
    "    if(idx == 0):\n",
    "        continue\n",
    "    print(idx)\n",
    "    df_all = df_all.union(df)"
   ]
  },
  {
   "cell_type": "markdown",
   "metadata": {},
   "source": [
    "df_all.show()"
   ]
  },
  {
   "cell_type": "code",
   "execution_count": 7,
   "metadata": {},
   "outputs": [
    {
     "data": {
      "text/plain": [
       "<bound method DataFrame.colRegex of DataFrame[성별: string, 연령: string, 승인시간대1: int, 가맹점_시도명: string, 가맹점_시군구명: string, 가맹점_읍면동명: string, 가맹점업종코드: int, 회원수: int]>"
      ]
     },
     "execution_count": 7,
     "metadata": {},
     "output_type": "execute_result"
    }
   ],
   "source": [
    "df_all.colRegex"
   ]
  },
  {
   "cell_type": "code",
   "execution_count": 8,
   "metadata": {},
   "outputs": [],
   "source": [
    "df_all_renamed = df_all.withColumnRenamed(\"성별\", \"gender\")\\\n",
    "                        .withColumnRenamed(\"연령\", \"age\")\\\n",
    "                        .withColumnRenamed(\"승인시간대1\", \"time\")\\\n",
    "                        .withColumnRenamed(\"가맹점_시도명\", \"do\")\\\n",
    "                        .withColumnRenamed(\"가맹점_시군구명\", \"si\")\\\n",
    "                        .withColumnRenamed(\"가맹점_읍면동명\", \"dong\")\\\n",
    "                        .withColumnRenamed(\"가맹점업종코드\", \"code\")\\\n",
    "                        .withColumnRenamed(\"회원수\", \"n\")                        "
   ]
  },
  {
   "cell_type": "markdown",
   "metadata": {},
   "source": [
    "df_all_renamed.show()"
   ]
  },
  {
   "cell_type": "code",
   "execution_count": 9,
   "metadata": {},
   "outputs": [
    {
     "data": {
      "text/plain": [
       "MapPartitionsRDD[123] at javaToPython at NativeMethodAccessorImpl.java:0"
      ]
     },
     "execution_count": 9,
     "metadata": {},
     "output_type": "execute_result"
    }
   ],
   "source": [
    "rdd = df_all_renamed.rdd\n",
    "rdd"
   ]
  },
  {
   "cell_type": "code",
   "execution_count": 10,
   "metadata": {},
   "outputs": [
    {
     "data": {
      "text/plain": [
       "[Row(gender='1.남성', age='4.40대', time=13, do='강원', si='강릉시', dong='강동면', code=2004, n=3),\n",
       " Row(gender='1.남성', age='4.40대', time=6, do='강원', si='강릉시', dong='강동면', code=2104, n=3),\n",
       " Row(gender='1.남성', age='4.40대', time=7, do='강원', si='강릉시', dong='강동면', code=2104, n=5)]"
      ]
     },
     "execution_count": 10,
     "metadata": {},
     "output_type": "execute_result"
    }
   ],
   "source": [
    "rdd.take(3)"
   ]
  },
  {
   "cell_type": "code",
   "execution_count": 11,
   "metadata": {},
   "outputs": [],
   "source": [
    "rdd = rdd.map(lambda x: Row(gender=int(x[0][0]),\\\n",
    "                            age=int(x[1][0]),\\\n",
    "                            time=int(x[2]),\\\n",
    "                            do=x[3],\\\n",
    "                            si=x[4],\\\n",
    "                            dong = x[5],\\\n",
    "                            code =int(x[6]),\\\n",
    "                            n = int(x[7])))"
   ]
  },
  {
   "cell_type": "code",
   "execution_count": 12,
   "metadata": {},
   "outputs": [
    {
     "data": {
      "text/plain": [
       "Row(gender=1, age=4, time=13, do='강원', si='강릉시', dong='강동면', code=2004, n=3)"
      ]
     },
     "execution_count": 12,
     "metadata": {},
     "output_type": "execute_result"
    }
   ],
   "source": [
    "rdd.take(3)[0]"
   ]
  },
  {
   "cell_type": "markdown",
   "metadata": {},
   "source": [
    "type(rdd)"
   ]
  },
  {
   "cell_type": "code",
   "execution_count": 13,
   "metadata": {},
   "outputs": [],
   "source": [
    "schema = StructType([StructField(\"gender\", StringType(), True),\\\n",
    "                     StructField(\"age\", StringType(), True),\\\n",
    "                     StructField(\"time\", IntegerType(), True),\\\n",
    "                     StructField(\"do\", StringType(), True),\\\n",
    "                     StructField(\"si\", StringType(), True),\\\n",
    "                     StructField(\"dong\", StringType(), True),\\\n",
    "                     StructField(\"code\", IntegerType(), True),\\\n",
    "                     StructField(\"n\", IntegerType(), True)])\n"
   ]
  },
  {
   "cell_type": "code",
   "execution_count": 170,
   "metadata": {},
   "outputs": [],
   "source": [
    "# df_mapped = spark.createDataFrame(rdd, schema).cache()\n",
    "df_mapped = spark.createDataFrame(rdd, schema).persist(pyspark.StorageLevel.DISK_ONLY)"
   ]
  },
  {
   "cell_type": "markdown",
   "metadata": {},
   "source": [
    "# 캐싱 없이 쇼\n",
    "start = time.time()  # 시작 시간 저장\n",
    "\n",
    "df_mapped.show()\n",
    "\n",
    "print(\"time :\", time.time() - start)  # 현재시각 - 시작시간 = 실행 시간"
   ]
  },
  {
   "cell_type": "markdown",
   "metadata": {},
   "source": [
    "# 캐싱 없이 재차 쇼\n",
    "start = time.time()  # 시작 시간 저장\n",
    "\n",
    "df_mapped.show()\n",
    "\n",
    "print(\"time :\", time.time() - start)  # 현재시각 - 시작시간 = 실행 시간"
   ]
  },
  {
   "cell_type": "markdown",
   "metadata": {},
   "source": [
    "# 캐싱 후 쇼\n",
    "df_mapped.persist()\n",
    "start = time.time()  # 시작 시간 저장\n",
    "\n",
    "df_mapped.show()\n",
    "\n",
    "print(\"time :\", time.time() - start)  # 현재시각 - 시작시간 = 실행 시간"
   ]
  },
  {
   "cell_type": "markdown",
   "metadata": {},
   "source": [
    "start = time.time()  # 시작 시간 저장\n",
    "\n",
    "df_mapped.show()\n",
    "\n",
    "print(\"time :\", time.time() - start)  # 현재시각 - 시작시간 = 실행 시간"
   ]
  },
  {
   "cell_type": "markdown",
   "metadata": {},
   "source": [
    "df_mapped.unpersist()"
   ]
  },
  {
   "cell_type": "code",
   "execution_count": 171,
   "metadata": {},
   "outputs": [
    {
     "name": "stdout",
     "output_type": "stream",
     "text": [
      "+------+---+----+----+------+------+----+---+\n",
      "|gender|age|time|  do|    si|  dong|code|  n|\n",
      "+------+---+----+----+------+------+----+---+\n",
      "|     1|  4|  13|강원|강릉시|강동면|2004|  3|\n",
      "|     1|  4|   6|강원|강릉시|강동면|2104|  3|\n",
      "|     1|  4|   7|강원|강릉시|강동면|2104|  5|\n",
      "|     1|  4|  11|강원|강릉시|강동면|2104|  3|\n",
      "|     1|  4|   6|강원|강릉시|강동면|2104|  5|\n",
      "|     1|  4|  17|강원|강릉시|강동면|2104|  3|\n",
      "|     1|  4|   7|강원|강릉시|강동면|2104|  6|\n",
      "|     1|  4|  11|강원|강릉시|강동면|2104|  3|\n",
      "|     1|  4|   7|강원|강릉시|강동면|2104|  5|\n",
      "|     1|  4|   6|강원|강릉시|강동면|2104|  5|\n",
      "|     1|  4|   7|강원|강릉시|강동면|2104|  6|\n",
      "|     1|  4|   7|강원|강릉시|강동면|2104|  4|\n",
      "|     1|  4|   6|강원|강릉시|강동면|2104|  6|\n",
      "|     1|  5|  11|강원|강릉시|강동면|2104|  3|\n",
      "|     1|  4|   7|강원|강릉시|강동면|2104|  5|\n",
      "|     1|  4|   6|강원|강릉시|강동면|2104|  3|\n",
      "|     1|  4|  11|강원|강릉시|강동면|2104|  3|\n",
      "|     1|  2|  11|강원|강릉시|강동면|2104|  3|\n",
      "|     1|  4|   6|강원|강릉시|강동면|2104|  3|\n",
      "|     1|  4|   7|강원|강릉시|강동면|2104|  7|\n",
      "+------+---+----+----+------+------+----+---+\n",
      "only showing top 20 rows\n",
      "\n",
      "time : 8.24923038482666\n"
     ]
    }
   ],
   "source": [
    "start = time.time()  # 시작 시간 저장\n",
    "\n",
    "df_mapped.show()\n",
    "\n",
    "print(\"time :\", time.time() - start)  # 현재시각 - 시작시간 = 실행 시간"
   ]
  },
  {
   "cell_type": "code",
   "execution_count": 172,
   "metadata": {},
   "outputs": [],
   "source": [
    "df_mapped.registerTempTable(\"df_tmp\")"
   ]
  },
  {
   "cell_type": "markdown",
   "metadata": {},
   "source": [
    "df_mapped.count()"
   ]
  },
  {
   "cell_type": "code",
   "execution_count": 173,
   "metadata": {},
   "outputs": [],
   "source": [
    "# 코드 형식\n",
    "# df_mapped.groupBy('gender', 'age','time', 'code').count().select('gender','age','time', f.col('count').alias('n')).show()\n",
    "\n",
    "# df_mapped.groupBy('gender', 'age','time', 'code').sum('n').show() # count().select('gender','age','time', f.col('count').alias('n')).show()\n",
    "df_group = df_mapped.groupBy('gender', 'age','time', 'do', 'si','dong', 'code').sum('n')"
   ]
  },
  {
   "cell_type": "markdown",
   "metadata": {},
   "source": [
    "# 쿼리 형식\n",
    "df_group = sqlContext.sql(\"select *, sum(n) as cnt from df_tmp group by gender, age, time, code\")"
   ]
  },
  {
   "cell_type": "code",
   "execution_count": null,
   "metadata": {},
   "outputs": [],
   "source": [
    "#################\n",
    "df_group = df_group.withColumnRenamed(\"sum(n)\", \"total\").persist(pyspark.StorageLevel.DISK_ONLY)\n",
    "df_group.show()\n",
    "df_group.registerTempTable(\"df_group\")\n"
   ]
  },
  {
   "cell_type": "code",
   "execution_count": 174,
   "metadata": {},
   "outputs": [
    {
     "data": {
      "text/plain": [
       "['gender', 'age', 'time', 'do', 'si', 'dong', 'code', 'total']"
      ]
     },
     "execution_count": 174,
     "metadata": {},
     "output_type": "execute_result"
    }
   ],
   "source": [
    "df_group = df_group.withColumnRenamed(\"sum(n)\", \"total\").persist(pyspark.StorageLevel.DISK_ONLY)\n",
    "df_group.columns"
   ]
  },
  {
   "cell_type": "code",
   "execution_count": 190,
   "metadata": {
    "collapsed": true
   },
   "outputs": [
    {
     "name": "stdout",
     "output_type": "stream",
     "text": [
      "+------+---+----+----+------+------+----+-----+\n",
      "|gender|age|time|  do|    si|  dong|code|total|\n",
      "+------+---+----+----+------+------+----+-----+\n",
      "|     2|  3|  15|강원|강릉시|견소동|2004|   60|\n",
      "|     1|  4|  18|강원|강릉시|  교동|2002|    6|\n",
      "|     2|  4|  14|강원|강릉시|  교동|2003|   24|\n",
      "|     2|  3|   9|강원|강릉시|  교동|2003|   20|\n",
      "|     1|  4|  14|강원|강릉시|  교동|2099|    9|\n",
      "|     1|  5|  18|강원|강릉시|  교동|2104|  400|\n",
      "|     1|  7|  13|강원|강릉시|  교동|2104|   12|\n",
      "|     2|  4|  21|강원|강릉시|  교동|2104|   71|\n",
      "|     1|  3|  13|강원|강릉시|  교동|2109|   12|\n",
      "|     1|  5|  18|강원|강릉시|병산동|2104|    6|\n",
      "|     2|  4|  16|강원|강릉시|성내동|2004|    6|\n",
      "|     1|  4|  12|강원|강릉시|옥천동|2104|   78|\n",
      "|     2|  3|  17|강원|강릉시|포남동|2104|    9|\n",
      "|     1|  4|  15|강원|강릉시|홍제동|2004|   12|\n",
      "|     1|  2|  19|강원|고성군|간성읍|2109|   25|\n",
      "|     1|  4|  22|강원|동해시|나안동|2104|    3|\n",
      "|     1|  4|  16|강원|동해시|천곡동|2003|    9|\n",
      "|     1|  3|  12|강원|동해시|천곡동|2099|   39|\n",
      "|     1|  3|  17|강원|동해시|천곡동|2099|   19|\n",
      "|     2|  5|  12|강원|삼척시|남양동|2104|   32|\n",
      "+------+---+----+----+------+------+----+-----+\n",
      "only showing top 20 rows\n",
      "\n",
      "time : 0.0540003776550293\n"
     ]
    }
   ],
   "source": [
    "start = time.time()  # 시작 시간 저장\n",
    "\n",
    "df_group.show()\n",
    "\n",
    "print(\"time :\", time.time() - start)  # 현재시각 - 시작시간 = 실행 시간"
   ]
  },
  {
   "cell_type": "markdown",
   "metadata": {
    "scrolled": true
   },
   "source": [
    "# df_group.write.option(\"header\", \"true\").csv('C:/ssafy/2nd/s03p23a305/bigdata/analysis/output/test')\n",
    "df_group.write.format('csv').option('header',True).mode('overwrite').option('sep',',').save('C:/ssafy/2nd/s03p23a305/bigdata/analysis/output/output.csv')"
   ]
  },
  {
   "cell_type": "code",
   "execution_count": 191,
   "metadata": {},
   "outputs": [],
   "source": [
    "df_group.registerTempTable(\"df_group\")"
   ]
  },
  {
   "cell_type": "code",
   "execution_count": 192,
   "metadata": {
    "collapsed": true
   },
   "outputs": [
    {
     "name": "stdout",
     "output_type": "stream",
     "text": [
      "+-------------+\n",
      "|           si|\n",
      "+-------------+\n",
      "|       구리시|\n",
      "|       강진군|\n",
      "|       남동구|\n",
      "|       송파구|\n",
      "|       고령군|\n",
      "|       시흥시|\n",
      "|       도봉구|\n",
      "|       부안군|\n",
      "|       증평군|\n",
      "|천안시 서북구|\n",
      "|     북제주군|\n",
      "|       김천시|\n",
      "|       횡성군|\n",
      "|       연기군|\n",
      "|       영덕군|\n",
      "|       상주시|\n",
      "|       달성군|\n",
      "|       양산시|\n",
      "|       은평구|\n",
      "|       순창군|\n",
      "+-------------+\n",
      "only showing top 20 rows\n",
      "\n"
     ]
    }
   ],
   "source": [
    "si_df = df_group.select('si').distinct().persist(pyspark.StorageLevel.DISK_ONLY)\n",
    "si_df.show()"
   ]
  },
  {
   "cell_type": "code",
   "execution_count": 193,
   "metadata": {},
   "outputs": [
    {
     "data": {
      "text/plain": [
       "241"
      ]
     },
     "execution_count": 193,
     "metadata": {},
     "output_type": "execute_result"
    }
   ],
   "source": [
    "si_df.count()"
   ]
  },
  {
   "cell_type": "code",
   "execution_count": 194,
   "metadata": {},
   "outputs": [
    {
     "data": {
      "text/plain": [
       "2.343055555555556"
      ]
     },
     "execution_count": 194,
     "metadata": {},
     "output_type": "execute_result"
    }
   ],
   "source": [
    "241*35/60/60"
   ]
  },
  {
   "cell_type": "code",
   "execution_count": 195,
   "metadata": {},
   "outputs": [],
   "source": [
    "si = \"'종로구'\"\n"
   ]
  },
  {
   "cell_type": "code",
   "execution_count": 196,
   "metadata": {
    "scrolled": true
   },
   "outputs": [
    {
     "data": {
      "text/plain": [
       "\"select gender, age, time, code, total from df_group where si ='종로구' order by total desc\""
      ]
     },
     "execution_count": 196,
     "metadata": {},
     "output_type": "execute_result"
    }
   ],
   "source": [
    "query = \"select gender, age, time, code, total from df_group where si =\"+ si +\" order by total desc\"\n",
    "query"
   ]
  },
  {
   "cell_type": "code",
   "execution_count": 197,
   "metadata": {},
   "outputs": [
    {
     "name": "stdout",
     "output_type": "stream",
     "text": [
      "+------+---+----+----+-----+\n",
      "|gender|age|time|code|total|\n",
      "+------+---+----+----+-----+\n",
      "|     2|  2|  18|6113| 4796|\n",
      "|     2|  2|  17|6113| 4641|\n",
      "|     2|  2|  19|6113| 4501|\n",
      "|     2|  2|  16|6113| 4392|\n",
      "|     1|  2|  17|6113| 4020|\n",
      "|     1|  2|  16|6113| 3873|\n",
      "|     1|  2|  18|6113| 3763|\n",
      "|     1|  2|  15|6113| 3552|\n",
      "|     1|  4|   8|2004| 3510|\n",
      "|     2|  2|  15|6113| 3497|\n",
      "|     1|  2|  19|6113| 3288|\n",
      "|     2|  2|  20|6113| 3267|\n",
      "|     2|  4|  15|6113| 3169|\n",
      "|     2|  4|  16|6113| 3130|\n",
      "|     2|  4|  17|6113| 3080|\n",
      "|     1|  2|  18|2099| 3077|\n",
      "|     2|  3|  16|6113| 2947|\n",
      "|     2|  4|  14|6113| 2945|\n",
      "|     2|  3|  15|6113| 2854|\n",
      "|     1|  2|  14|6113| 2846|\n",
      "+------+---+----+----+-----+\n",
      "only showing top 20 rows\n",
      "\n",
      "time : 0.0370023250579834\n"
     ]
    }
   ],
   "source": [
    "selected_df = sqlContext.sql(query).persist(pyspark.StorageLevel.DISK_ONLY)\n",
    "\n",
    "start = time.time()  # 시작 시간 저장\n",
    "\n",
    "selected_df.show()\n",
    "\n",
    "print(\"time :\", time.time() - start)  # 현재시각 - 시작시간 = 실행 시간"
   ]
  },
  {
   "cell_type": "markdown",
   "metadata": {},
   "source": [
    "selected_df.count()"
   ]
  },
  {
   "cell_type": "markdown",
   "metadata": {},
   "source": [
    "selected_df.persist()"
   ]
  },
  {
   "cell_type": "code",
   "execution_count": 198,
   "metadata": {},
   "outputs": [
    {
     "data": {
      "text/plain": [
       "['gender', 'age', 'time', 'code', 'total']"
      ]
     },
     "execution_count": 198,
     "metadata": {},
     "output_type": "execute_result"
    }
   ],
   "source": [
    "selected_df.columns"
   ]
  },
  {
   "cell_type": "markdown",
   "metadata": {},
   "source": [
    "selected_df.describe()"
   ]
  },
  {
   "cell_type": "markdown",
   "metadata": {
    "scrolled": true
   },
   "source": [
    "selected_df.show()"
   ]
  },
  {
   "cell_type": "code",
   "execution_count": 199,
   "metadata": {},
   "outputs": [],
   "source": [
    "selected_df.registerTempTable(\"selected_df\")"
   ]
  },
  {
   "cell_type": "code",
   "execution_count": 200,
   "metadata": {},
   "outputs": [
    {
     "data": {
      "text/plain": [
       "'select code, sum(total) as sum from selected_df group by code order by sum desc'"
      ]
     },
     "execution_count": 200,
     "metadata": {},
     "output_type": "execute_result"
    }
   ],
   "source": [
    "query = \"select code, sum(total) as sum from selected_df group by code order by sum desc\"\n",
    "query"
   ]
  },
  {
   "cell_type": "code",
   "execution_count": 201,
   "metadata": {},
   "outputs": [],
   "source": [
    "sum_groupByDf = sqlContext.sql(query).persist(pyspark.StorageLevel.DISK_ONLY)\n"
   ]
  },
  {
   "cell_type": "code",
   "execution_count": 202,
   "metadata": {},
   "outputs": [
    {
     "name": "stdout",
     "output_type": "stream",
     "text": [
      "+----+------+\n",
      "|code|   sum|\n",
      "+----+------+\n",
      "|2104|422931|\n",
      "|2004|323112|\n",
      "|6113|246430|\n",
      "|2199|199744|\n",
      "|2099|154524|\n",
      "|1004| 66570|\n",
      "|2002| 40736|\n",
      "|6018| 31848|\n",
      "|2003| 28923|\n",
      "|2112| 22970|\n",
      "|2110| 16961|\n",
      "|2107| 14821|\n",
      "|2109| 10788|\n",
      "|7106|  8718|\n",
      "|2312|  2708|\n",
      "|2499|  1852|\n",
      "|6204|  1831|\n",
      "|4113|  1231|\n",
      "|2299|  1034|\n",
      "|1201|   666|\n",
      "+----+------+\n",
      "only showing top 20 rows\n",
      "\n",
      "time : 0.17597365379333496\n"
     ]
    }
   ],
   "source": [
    "start = time.time()  # 시작 시간 저장\n",
    "\n",
    "sum_groupByDf.show()\n",
    "\n",
    "print(\"time :\", time.time() - start)  # 현재시각 - 시작시간 = 실행 시간"
   ]
  },
  {
   "cell_type": "code",
   "execution_count": null,
   "metadata": {},
   "outputs": [],
   "source": []
  },
  {
   "cell_type": "code",
   "execution_count": null,
   "metadata": {},
   "outputs": [],
   "source": []
  },
  {
   "cell_type": "code",
   "execution_count": null,
   "metadata": {},
   "outputs": [],
   "source": []
  },
  {
   "cell_type": "markdown",
   "metadata": {},
   "source": [
    "total_sum = 0\n",
    "for row in selected_df.collect():\n",
    "    total_sum += row.total\n",
    "total_sum"
   ]
  },
  {
   "cell_type": "code",
   "execution_count": null,
   "metadata": {},
   "outputs": [],
   "source": []
  },
  {
   "cell_type": "code",
   "execution_count": null,
   "metadata": {},
   "outputs": [],
   "source": []
  },
  {
   "cell_type": "code",
   "execution_count": null,
   "metadata": {},
   "outputs": [],
   "source": []
  },
  {
   "cell_type": "code",
   "execution_count": 43,
   "metadata": {},
   "outputs": [],
   "source": [
    "code_df = sqlContext.read.format('com.databricks.spark.csv')\\\n",
    "        .options(header='true', inferSchema='true')\\\n",
    "        .load('C:/ssafy/2nd/s03p23a305/bigdata/analysis/new_codelist-UTF.csv')\\\n",
    "        .cache()"
   ]
  },
  {
   "cell_type": "code",
   "execution_count": 45,
   "metadata": {
    "collapsed": true
   },
   "outputs": [
    {
     "data": {
      "text/plain": [
       "[Row(largeCate='쇼핑', MediumCate='의류', smallCate='맞춤복점', code=1001, desc='남성복 맞춤업소,여성복 맞춤업소,와이셔츠 맞춤업소'),\n",
       " Row(largeCate='쇼핑', MediumCate='의류', smallCate='한복점', code=1003, desc='남.여 한복 맞춤업소, 개량한복점 포함'),\n",
       " Row(largeCate='쇼핑', MediumCate='의류', smallCate='기성복점', code=1004, desc='의류대리점(모피 및 교복 포함),남성기성복점,여성기성복점,와이셔츠판매점'),\n",
       " Row(largeCate='쇼핑', MediumCate='의류', smallCate='아동 및 유아복점', code=1007, desc='아동복 및 유아복 판매점'),\n",
       " Row(largeCate='쇼핑', MediumCate='의류', smallCate='내의판매점', code=1008, desc='내의,타월,양말,스타킹등 판매점'),\n",
       " Row(largeCate='쇼핑', MediumCate='의류', smallCate='양품점', code=1010, desc='각종 양품,잡화 판매점'),\n",
       " Row(largeCate='쇼핑', MediumCate='의류', smallCate='기타 의류', code=1099, desc=None),\n",
       " Row(largeCate='쇼핑', MediumCate='직물/침구류', smallCate='옷감판매점', code=1101, desc='양복,양장,한복등의 옷감 및 면직,견직,모직등의 직물류 판매점'),\n",
       " Row(largeCate='쇼핑', MediumCate='직물/침구류', smallCate='침구,커튼,카펫트점', code=1102, desc='이불,담요,베개,카바,커튼,카펫트등 판매점'),\n",
       " Row(largeCate='쇼핑', MediumCate='직물/침구류', smallCate='수예점', code=1104, desc='각종 수예품(자수,실포함) 판매점'),\n",
       " Row(largeCate='쇼핑', MediumCate='직물/침구류', smallCate='자석요', code=1105, desc='자석요 수입,제조판매'),\n",
       " Row(largeCate='쇼핑', MediumCate='직물/침구류', smallCate='기타 직물', code=1199, desc=None),\n",
       " Row(largeCate='쇼핑', MediumCate='신변잡화', smallCate='악세사리점', code=1201, desc='패션주얼리전문점(예:미니골드 등) 및 모자,장갑,손수건,넥타이,스카프,벨트,브롯지,머리핀등 판매점'),\n",
       " Row(largeCate='쇼핑', MediumCate='신변잡화', smallCate='귀금속점', code=1202, desc='금,은,보석등 (귀금속 및 시계류 복합판매점 포함)'),\n",
       " Row(largeCate='쇼핑', MediumCate='신변잡화', smallCate='시계전문점', code=1203, desc='각종 시계류 판매점'),\n",
       " Row(largeCate='쇼핑', MediumCate='신변잡화', smallCate='안경점', code=1204, desc='안경,콘택트렌즈,선글라스등'),\n",
       " Row(largeCate='쇼핑', MediumCate='신변잡화', smallCate='가방점', code=1205, desc='가방,핸드백,트렁크,지갑등'),\n",
       " Row(largeCate='쇼핑', MediumCate='신변잡화', smallCate='제화점', code=1206, desc='구두류 맞춤 및 판매업소'),\n",
       " Row(largeCate='쇼핑', MediumCate='신변잡화', smallCate='일반신발점', code=1207, desc='구두류를 제외한 각종 신발 및 캐쥬얼화 판매업소'),\n",
       " Row(largeCate='쇼핑', MediumCate='신변잡화', smallCate='가발전문점', code=1208, desc='가발판매 전문점(미용재료업 제외)'),\n",
       " Row(largeCate='쇼핑', MediumCate='신변잡화', smallCate='기타 신변잡화', code=1299, desc=None),\n",
       " Row(largeCate='식생활', MediumCate='휴게음식점', smallCate='휴게음식점', code=2002, desc='공항,고속도로,유원지의 휴게실 등'),\n",
       " Row(largeCate='식생활', MediumCate='휴게음식점', smallCate='제과점/아이스크림점', code=2003, desc='빵,생과자,떡,아이스크림등의 판매업소'),\n",
       " Row(largeCate='식생활', MediumCate='휴게음식점', smallCate='커피/음료전문점', code=2004, desc=None),\n",
       " Row(largeCate='식생활', MediumCate='휴게음식점', smallCate='패스트푸드점', code=2099, desc='도시락판매점 포함'),\n",
       " Row(largeCate='식생활', MediumCate='일반음식점', smallCate='한식', code=2104, desc='대중한식집 및 한정식 제공업소 (죽 판매점 포함)'),\n",
       " Row(largeCate='식생활', MediumCate='일반음식점', smallCate='일식/생선회집', code=2107, desc='장어구이,참치전문점 포함'),\n",
       " Row(largeCate='식생활', MediumCate='일반음식점', smallCate='중식', code=2109, desc=None),\n",
       " Row(largeCate='식생활', MediumCate='일반음식점', smallCate='양식', code=2110, desc='일반 레스토랑'),\n",
       " Row(largeCate='식생활', MediumCate='일반음식점', smallCate='부페', code=2111, desc='호텔부페,부페전문점 등'),\n",
       " Row(largeCate='식생활', MediumCate='일반음식점', smallCate='일반주점', code=2112, desc='빠,비어홀,호프,생맥주(치킨호프 포함),소주방 등'),\n",
       " Row(largeCate='식생활', MediumCate='일반음식점', smallCate='패밀리레스토랑', code=2113, desc='TGIF,아웃백,스카이락 등 외식프랜차이즈'),\n",
       " Row(largeCate='식생활', MediumCate='일반음식점', smallCate='일반음식점 기타', code=2199, desc='출장외식업, 단체급식전문 위탁경영업체 포함'),\n",
       " Row(largeCate='식생활', MediumCate='음료식품', smallCate='미곡상', code=2401, desc='쌀,보리,콩,잡곡등의 곡물과 곡분판매업소 ( 방앗간 포함 )'),\n",
       " Row(largeCate='식생활', MediumCate='음료식품', smallCate='정육점', code=2402, desc='한우,수입고기,돼지고기,닭고기등'),\n",
       " Row(largeCate='식생활', MediumCate='음료식품', smallCate='인삼판매점', code=2403, desc='인삼,홍삼 및 관련가공품등'),\n",
       " Row(largeCate='식생활', MediumCate='음료식품', smallCate='건강식품점', code=2404, desc='영지,로얄제리,벌꿀,알로에,스쿠알렌,흑염소,자연식품(선식,생식,녹즙 등) 및 다이어트 식품'),\n",
       " Row(largeCate='식생활', MediumCate='음료식품', smallCate='농．수．축산물점', code=2406, desc='농산품(청과물 포함),수산물,우유.버터 등 축산물 판매점 (정육점 제외)'),\n",
       " Row(largeCate='식생활', MediumCate='음료식품', smallCate='주류판매점', code=2407, desc='알콜성음료 전문판매점'),\n",
       " Row(largeCate='식생활', MediumCate='음료식품', smallCate='기타 식품', code=2499, desc='반찬가게, 각종 식품자재(고추장,된장 등 장류 포함) 판매 등'),\n",
       " Row(largeCate='유흥', MediumCate='유흥', smallCate='단란주점', code=2299, desc=None),\n",
       " Row(largeCate='유흥', MediumCate='유흥', smallCate='유흥주점', code=2312, desc='유흥까페,룸싸롱,요정,극장식당 등'),\n",
       " Row(largeCate='유흥', MediumCate='유흥', smallCate='나이트클럽', code=2317, desc='카바레,디스코클럽 포함'),\n",
       " Row(largeCate='유흥', MediumCate='유흥', smallCate='노래방', code=4113, desc=None),\n",
       " Row(largeCate='유흥', MediumCate='유흥', smallCate='안마시술소', code=7104, desc=None),\n",
       " Row(largeCate='유흥', MediumCate='유흥', smallCate='유흥기타', code=7299, desc='휴게텔,전화방 등'),\n",
       " Row(largeCate='레포츠/문화/취미', MediumCate='레저/스포츠', smallCate='스포츠용품점', code=6001, desc='운동기구,스포츠의류,스포츠화등'),\n",
       " Row(largeCate='레포츠/문화/취미', MediumCate='레저/스포츠', smallCate='레저용품점', code=6002, desc='골프,스키,스킨스쿠버,요트,등산용품, 낚시용품 등의 레저관련 용품판매 및 대여점'),\n",
       " Row(largeCate='레포츠/문화/취미', MediumCate='레저/스포츠', smallCate='총포류판매점', code=6003, desc='각종 수렵용 총포류 판매업소'),\n",
       " Row(largeCate='레포츠/문화/취미', MediumCate='레저/스포츠', smallCate='골프장', code=6004, desc='회원제골프장, 퍼블릭골프장'),\n",
       " Row(largeCate='레포츠/문화/취미', MediumCate='레저/스포츠', smallCate='골프연습장', code=6005, desc='실내/실외 골프연습장 (스크린골프연습장 포함)'),\n",
       " Row(largeCate='레포츠/문화/취미', MediumCate='레저/스포츠', smallCate='테니스장', code=6006, desc='테니스, 정구, 스쿼시 등'),\n",
       " Row(largeCate='레포츠/문화/취미', MediumCate='레저/스포츠', smallCate='볼링장', code=6007, desc=None),\n",
       " Row(largeCate='레포츠/문화/취미', MediumCate='레저/스포츠', smallCate='스키장', code=6008, desc=None),\n",
       " Row(largeCate='레포츠/문화/취미', MediumCate='레저/스포츠', smallCate='수영장', code=6009, desc=None),\n",
       " Row(largeCate='레포츠/문화/취미', MediumCate='레저/스포츠', smallCate='종합스포츠센터', code=6010, desc='휘트니스센터,헬스장 포함'),\n",
       " Row(largeCate='레포츠/문화/취미', MediumCate='레저/스포츠', smallCate='당구장', code=6011, desc=None),\n",
       " Row(largeCate='레포츠/문화/취미', MediumCate='레저/스포츠', smallCate='놀이공원', code=6012, desc='에버랜드,서울랜드,서울대공원,롯데월드등'),\n",
       " Row(largeCate='레포츠/문화/취미', MediumCate='레저/스포츠', smallCate='레포츠클럽', code=6013, desc='자체모집회원을 대상으로 각종 레포츠관련서비스를 제공하는 업소'),\n",
       " Row(largeCate='레포츠/문화/취미', MediumCate='레저/스포츠', smallCate='이벤트업', code=6015, desc='상품전시 및 행사대행업,이벤트(행사) 관련 용품 판매 및 대여,공연기획'),\n",
       " Row(largeCate='레포츠/문화/취미', MediumCate='레저/스포츠', smallCate='외국인전용카지노', code=6016, desc='외국인전용 카지노업소(해외회원에 한하여 승인가능, 국내회원 승인불가)'),\n",
       " Row(largeCate='레포츠/문화/취미', MediumCate='레저/스포츠', smallCate='요가', code=6021, desc='단학, 기수련원 포함'),\n",
       " Row(largeCate='레포츠/문화/취미', MediumCate='레저/스포츠', smallCate='기타 레저업소', code=6099, desc='수목원,주말농장,낚시터, 캠핑장 등'),\n",
       " Row(largeCate='레포츠/문화/취미', MediumCate='문화/취미', smallCate='영화관', code=6014, desc=None),\n",
       " Row(largeCate='레포츠/문화/취미', MediumCate='문화/취미', smallCate='공연장/전시장', code=6019, desc='연극,쇼공연,행사공연,각종 전시장(미술관,박물관,과학관 등) '),\n",
       " Row(largeCate='레포츠/문화/취미', MediumCate='문화/취미', smallCate='경기장', code=6020, desc='스포츠 경기관람 등'),\n",
       " Row(largeCate='레포츠/문화/취미', MediumCate='문화/취미', smallCate='비디오방/게임방', code=6018, desc='DVD방,PC방,PS2게임방 등'),\n",
       " Row(largeCate='레포츠/문화/취미', MediumCate='문화/취미', smallCate='사진관', code=6107, desc='필름판매 및 현상'),\n",
       " Row(largeCate='레포츠/문화/취미', MediumCate='문화/취미', smallCate='서점', code=6113, desc='일반책 및 서적판매 등'),\n",
       " Row(largeCate='레포츠/문화/취미', MediumCate='문화/취미', smallCate='화랑', code=6201, desc='미술,서예등의 예술품등'),\n",
       " Row(largeCate='레포츠/문화/취미', MediumCate='문화/취미', smallCate='화방', code=6202, desc='미술용품 및 서예용품 판매점'),\n",
       " Row(largeCate='레포츠/문화/취미', MediumCate='문화/취미', smallCate='화원 ', code=6203, desc='생화,화분,관상수,조경, 수석 등'),\n",
       " Row(largeCate='레포츠/문화/취미', MediumCate='문화/취미', smallCate='완구점', code=6204, desc='장난감,인형,오락기구등 아동 및 유아관련 용품 판매 및 대여점'),\n",
       " Row(largeCate='레포츠/문화/취미', MediumCate='문화/취미', smallCate='애완동물', code=6205, desc='애완동물,관상조 및 관련 용품판매점 '),\n",
       " Row(largeCate='레포츠/문화/취미', MediumCate='문화/취미', smallCate='골동품점', code=6206, desc='골동품,도자기,고전가구,우표,동전등'),\n",
       " Row(largeCate='레포츠/문화/취미', MediumCate='문화/취미', smallCate='표구사', code=6207, desc='족자,액자등의 표구제품 등'),\n",
       " Row(largeCate='레포츠/문화/취미', MediumCate='문화/취미', smallCate='수족관', code=6208, desc='수족관,열대어등'),\n",
       " Row(largeCate='레포츠/문화/취미', MediumCate='문화/취미', smallCate='티켓판매(통신판매)', code=6209, desc='통신판매에 의한 티켓판매업소'),\n",
       " Row(largeCate='레포츠/문화/취미', MediumCate='문화/취미', smallCate='티켓판매(전자상거래)', code=6210, desc='전자상거래에 의한 티켓판매업소'),\n",
       " Row(largeCate='레포츠/문화/취미', MediumCate='문화/취미', smallCate='음반판매점', code=6111, desc='레코드판,카셋트테이프,CD등'),\n",
       " Row(largeCate='레포츠/문화/취미', MediumCate='문화/취미', smallCate='비디오 및 도서대여점', code=6112, desc='비디오테이프,DVD,도서 등의 대여점'),\n",
       " Row(largeCate='레포츠/문화/취미', MediumCate='문화/취미', smallCate='문화/취미 기타', code=6299, desc='신문,잡지 포함'),\n",
       " Row(largeCate='미용', MediumCate='미용', smallCate='이용원', code=7101, desc=None),\n",
       " Row(largeCate='미용', MediumCate='미용', smallCate='미용원', code=7102, desc=None),\n",
       " Row(largeCate='미용', MediumCate='미용', smallCate='피부미용원', code=7103, desc='피부비만관리,체형관리,썬텐,스포츠마사지,발마사지,네일아트 등'),\n",
       " Row(largeCate='미용', MediumCate='미용', smallCate='찜질방/목욕탕', code=7105, desc='증기탕, 사우나 포함'),\n",
       " Row(largeCate='미용', MediumCate='미용', smallCate='화장품점', code=7106, desc=None),\n",
       " Row(largeCate='미용', MediumCate='미용', smallCate='미용재료', code=7108, desc=None),\n",
       " Row(largeCate='미용', MediumCate='미용', smallCate='미용 기타', code=7199, desc=None)]"
      ]
     },
     "execution_count": 45,
     "metadata": {},
     "output_type": "execute_result"
    }
   ],
   "source": [
    "code_df.collect()"
   ]
  },
  {
   "cell_type": "code",
   "execution_count": null,
   "metadata": {},
   "outputs": [],
   "source": []
  },
  {
   "cell_type": "code",
   "execution_count": null,
   "metadata": {},
   "outputs": [],
   "source": []
  },
  {
   "cell_type": "code",
   "execution_count": null,
   "metadata": {},
   "outputs": [],
   "source": []
  },
  {
   "cell_type": "code",
   "execution_count": null,
   "metadata": {},
   "outputs": [],
   "source": []
  }
 ],
 "metadata": {
  "kernelspec": {
   "display_name": "Python 3",
   "language": "python",
   "name": "python3"
  },
  "language_info": {
   "codemirror_mode": {
    "name": "ipython",
    "version": 3
   },
   "file_extension": ".py",
   "mimetype": "text/x-python",
   "name": "python",
   "nbconvert_exporter": "python",
   "pygments_lexer": "ipython3",
   "version": "3.8.3"
  }
 },
 "nbformat": 4,
 "nbformat_minor": 4
}
