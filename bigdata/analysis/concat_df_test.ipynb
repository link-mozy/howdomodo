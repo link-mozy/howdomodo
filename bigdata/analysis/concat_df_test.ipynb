{
 "cells": [
  {
   "cell_type": "code",
   "execution_count": 1,
   "metadata": {},
   "outputs": [],
   "source": [
    "from pyspark.sql import SQLContext\n",
    "from pyspark.sql.functions import *\n",
    "from pyspark import SparkContext\n",
    "from pyspark.sql.types import *\n",
    "from functools import reduce\n",
    "from pyspark.sql import DataFrame\n",
    "from pyspark.sql import SparkSession\n",
    "\n",
    "import pandas as pd\n",
    "import numpy as np"
   ]
  },
  {
   "cell_type": "code",
   "execution_count": 2,
   "metadata": {},
   "outputs": [],
   "source": [
    "sc = SparkContext()\n",
    "sqlContext = SQLContext(sc)"
   ]
  },
  {
   "cell_type": "code",
   "execution_count": 4,
   "metadata": {
    "collapsed": true
   },
   "outputs": [
    {
     "ename": "TypeError",
     "evalue": "col should be a string or a Column",
     "output_type": "error",
     "traceback": [
      "\u001b[1;31m---------------------------------------------------------------------------\u001b[0m",
      "\u001b[1;31mTypeError\u001b[0m                                 Traceback (most recent call last)",
      "\u001b[1;32m<ipython-input-4-b10d9156cf2a>\u001b[0m in \u001b[0;36m<module>\u001b[1;34m\u001b[0m\n\u001b[0;32m      7\u001b[0m         \u001b[1;33m.\u001b[0m\u001b[0mcache\u001b[0m\u001b[1;33m(\u001b[0m\u001b[1;33m)\u001b[0m\u001b[1;33m\u001b[0m\u001b[1;33m\u001b[0m\u001b[0m\n\u001b[0;32m      8\u001b[0m \u001b[1;33m\u001b[0m\u001b[0m\n\u001b[1;32m----> 9\u001b[1;33m     \u001b[0mdf\u001b[0m \u001b[1;33m=\u001b[0m \u001b[0mdf\u001b[0m\u001b[1;33m.\u001b[0m\u001b[0mdrop\u001b[0m\u001b[1;33m(\u001b[0m\u001b[1;33m[\u001b[0m\u001b[1;34m\"회원_시도명\"\u001b[0m\u001b[1;33m,\u001b[0m \u001b[1;34m\"회원_시군구명\"\u001b[0m\u001b[1;33m,\u001b[0m \u001b[1;34m\"개인기업구분\"\u001b[0m\u001b[1;33m,\u001b[0m \u001b[1;34m\"매출년원일\"\u001b[0m\u001b[1;33m,\u001b[0m \u001b[1;34m\"가맹점_시도명\"\u001b[0m\u001b[1;33m,\u001b[0m \u001b[1;34m\"가맹점_시군구명\"\u001b[0m\u001b[1;33m,\u001b[0m \u001b[1;34m\"가맹점_읍면동명\"\u001b[0m\u001b[1;33m,\u001b[0m \u001b[1;34m\"결제건수\"\u001b[0m\u001b[1;33m,\u001b[0m \u001b[1;34m\"회원수\"\u001b[0m\u001b[1;33m]\u001b[0m\u001b[1;33m)\u001b[0m\u001b[1;33m\u001b[0m\u001b[1;33m\u001b[0m\u001b[0m\n\u001b[0m\u001b[0;32m     10\u001b[0m     \u001b[0mdf_list\u001b[0m\u001b[1;33m.\u001b[0m\u001b[0mappend\u001b[0m\u001b[1;33m(\u001b[0m\u001b[0mdf\u001b[0m\u001b[1;33m)\u001b[0m\u001b[1;33m\u001b[0m\u001b[1;33m\u001b[0m\u001b[0m\n",
      "\u001b[1;32m~\\anaconda3\\lib\\site-packages\\pyspark\\sql\\dataframe.py\u001b[0m in \u001b[0;36mdrop\u001b[1;34m(self, *cols)\u001b[0m\n\u001b[0;32m   2141\u001b[0m                 \u001b[0mjdf\u001b[0m \u001b[1;33m=\u001b[0m \u001b[0mself\u001b[0m\u001b[1;33m.\u001b[0m\u001b[0m_jdf\u001b[0m\u001b[1;33m.\u001b[0m\u001b[0mdrop\u001b[0m\u001b[1;33m(\u001b[0m\u001b[0mcol\u001b[0m\u001b[1;33m.\u001b[0m\u001b[0m_jc\u001b[0m\u001b[1;33m)\u001b[0m\u001b[1;33m\u001b[0m\u001b[1;33m\u001b[0m\u001b[0m\n\u001b[0;32m   2142\u001b[0m             \u001b[1;32melse\u001b[0m\u001b[1;33m:\u001b[0m\u001b[1;33m\u001b[0m\u001b[1;33m\u001b[0m\u001b[0m\n\u001b[1;32m-> 2143\u001b[1;33m                 \u001b[1;32mraise\u001b[0m \u001b[0mTypeError\u001b[0m\u001b[1;33m(\u001b[0m\u001b[1;34m\"col should be a string or a Column\"\u001b[0m\u001b[1;33m)\u001b[0m\u001b[1;33m\u001b[0m\u001b[1;33m\u001b[0m\u001b[0m\n\u001b[0m\u001b[0;32m   2144\u001b[0m         \u001b[1;32melse\u001b[0m\u001b[1;33m:\u001b[0m\u001b[1;33m\u001b[0m\u001b[1;33m\u001b[0m\u001b[0m\n\u001b[0;32m   2145\u001b[0m             \u001b[1;32mfor\u001b[0m \u001b[0mcol\u001b[0m \u001b[1;32min\u001b[0m \u001b[0mcols\u001b[0m\u001b[1;33m:\u001b[0m\u001b[1;33m\u001b[0m\u001b[1;33m\u001b[0m\u001b[0m\n",
      "\u001b[1;31mTypeError\u001b[0m: col should be a string or a Column"
     ]
    }
   ],
   "source": [
    "csv_list = [\"09\",\"10\",\"11\",\"12\"]\n",
    "df_list = []\n",
    "for listname in csv_list:\n",
    "    df = sqlContext.read.format('com.databricks.spark.csv')\\\n",
    "        .options(header='true', inferSchema='true')\\\n",
    "        .load('C:/ssafy/2nd/s03p22a305/bigdata/analysis/2019-'+listname+'.csv')\\\n",
    "        .cache()\n",
    "    \n",
    "    df = df.drop([\"회원_시도명\", \"회원_시군구명\", \"개인기업구분\", \"매출년원일\", \"가맹점_시도명\", \"가맹점_시군구명\", \"가맹점_읍면동명\", \"결제건수\", \"회원수\"])\n",
    "    df_list.append(df)\n"
   ]
  },
  {
   "cell_type": "code",
   "execution_count": 32,
   "metadata": {},
   "outputs": [],
   "source": [
    "spark = SparkSession.builder \\\n",
    "    .master(\"local\") \\\n",
    "    .appName(\"Word Count\") \\\n",
    "    .config(\"spark.some.config.option\", \"some-value\") \\\n",
    "    .getOrCreate()"
   ]
  },
  {
   "cell_type": "code",
   "execution_count": 33,
   "metadata": {},
   "outputs": [],
   "source": [
    "df = spark.read.option(\"delimeter\", \"\\t\").option('header',True).csv('2019-09.txt')"
   ]
  },
  {
   "cell_type": "code",
   "execution_count": 34,
   "metadata": {},
   "outputs": [
    {
     "data": {
      "text/plain": [
       "DataFrame[회원_시도명\t회원_시군구명\t개인기업구분\t성별\t연령\t매출년월일\t승인시간대1\t가맹점_시도명\t가맹점_시군구명\t가맹점_읍면동명\t가맹점업종코드\t결제금액\t결제건수\t회원수: string]"
      ]
     },
     "execution_count": 34,
     "metadata": {},
     "output_type": "execute_result"
    }
   ],
   "source": [
    "df"
   ]
  },
  {
   "cell_type": "code",
   "execution_count": 30,
   "metadata": {},
   "outputs": [],
   "source": [
    "df = sqlContext.read.format('com.databricks.spark.csv')\\\n",
    "        .options(header='true', inferSchema='true')\\\n",
    "        .load('C:/ssafy/2nd/s03p22a305/bigdata/analysis/2019-09.csv')\\\n",
    "        .cache()"
   ]
  },
  {
   "cell_type": "code",
   "execution_count": 31,
   "metadata": {
    "collapsed": true
   },
   "outputs": [
    {
     "data": {
      "text/plain": [
       "[Row(ȸ��_�õ���='����', ȸ��_�ñ�����=None, ���α������='����', ����3='1.����', ����4='4.40��', ��������=190921, ���νð���1=13, ������_�õ���='����', ������_�ñ�����='������', ������_���鵿��='������', �����������ڵ�=2004, �����ݾ�=26000, �����Ǽ�=3, ȸ����=3),\n",
       " Row(ȸ��_�õ���='����', ȸ��_�ñ�����='������', ���α������='���', ����3='3.���', ����4='0.��Ÿ', ��������=190904, ���νð���1=12, ������_�õ���='����', ������_�ñ�����='������', ������_���鵿��='������', �����������ڵ�=2104, �����ݾ�=362050, �����Ǽ�=4, ȸ����=4),\n",
       " Row(ȸ��_�õ���='����', ȸ��_�ñ�����='������', ���α������='���', ����3='3.���', ����4='0.��Ÿ', ��������=190925, ���νð���1=12, ������_�õ���='����', ������_�ñ�����='������', ������_���鵿��='������', �����������ڵ�=2104, �����ݾ�=55800, �����Ǽ�=3, ȸ����=3),\n",
       " Row(ȸ��_�õ���='����', ȸ��_�ñ�����='������', ���α������='���', ����3='3.���', ����4='0.��Ÿ', ��������=190916, ���νð���1=12, ������_�õ���='����', ������_�ñ�����='������', ������_���鵿��='������', �����������ڵ�=2104, �����ݾ�=280000, �����Ǽ�=9, ȸ����=6),\n",
       " Row(ȸ��_�õ���='����', ȸ��_�ñ�����='������', ���α������='����', ����3='1.����', ����4='4.40��', ��������=190926, ���νð���1=6, ������_�õ���='����', ������_�ñ�����='������', ������_���鵿��='������', �����������ڵ�=2104, �����ݾ�=9900, �����Ǽ�=3, ȸ����=3)]"
      ]
     },
     "execution_count": 31,
     "metadata": {},
     "output_type": "execute_result"
    }
   ],
   "source": [
    "df.head(5)"
   ]
  },
  {
   "cell_type": "code",
   "execution_count": 16,
   "metadata": {},
   "outputs": [],
   "source": [
    "# df = reduce(DataFrame.drop, [\"회원_시도명\", \"회원_시군구명\", \"개인기업구분\", \"매출년원일\", \"가맹점_시도명\", \"가맹점_시군구명\", \"가맹점_읍면동명\", \"결제건수\", \"회원수\"], df)\n",
    "\n",
    "df = df.drop(\"회원_시도명\")"
   ]
  },
  {
   "cell_type": "code",
   "execution_count": 22,
   "metadata": {},
   "outputs": [
    {
     "data": {
      "text/plain": [
       "['회원_시도명\\t회원_시군구명\\t개인기업구분\\t성별\\t연령\\t매출년월일\\t승인시간대1\\t가맹점_시도명\\t가맹점_시군구명\\t가맹점_읍면동명\\t가맹점업종코드\\t결제금액\\t결제건수\\t회원수']"
      ]
     },
     "execution_count": 22,
     "metadata": {},
     "output_type": "execute_result"
    }
   ],
   "source": [
    "df.columns"
   ]
  },
  {
   "cell_type": "code",
   "execution_count": null,
   "metadata": {},
   "outputs": [],
   "source": [
    "schema = StructType([StructField(\"성별\", StringType(), True), StructField(\"연령\", StringType(), False),\\\n",
    "                     StructField(\"승인시간대1\", LongType(), True), StructField(\"가맹점업종코드\", StringType(), True)])\n",
    "\n",
    "df_all = sqlContext.createDataFrame([],schema)\n"
   ]
  },
  {
   "cell_type": "code",
   "execution_count": null,
   "metadata": {},
   "outputs": [],
   "source": [
    "for df in df_list:\n",
    "    df_all.union(df)"
   ]
  },
  {
   "cell_type": "code",
   "execution_count": null,
   "metadata": {},
   "outputs": [],
   "source": []
  }
 ],
 "metadata": {
  "kernelspec": {
   "display_name": "Python 3",
   "language": "python",
   "name": "python3"
  },
  "language_info": {
   "codemirror_mode": {
    "name": "ipython",
    "version": 3
   },
   "file_extension": ".py",
   "mimetype": "text/x-python",
   "name": "python",
   "nbconvert_exporter": "python",
   "pygments_lexer": "ipython3",
   "version": "3.8.3"
  }
 },
 "nbformat": 4,
 "nbformat_minor": 4
}
