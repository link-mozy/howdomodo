{
 "cells": [
  {
   "cell_type": "code",
   "execution_count": 1,
   "metadata": {
    "scrolled": true
   },
   "outputs": [],
   "source": [
    "from pyspark import SparkContext\n",
    "from pyspark.sql import SparkSession\n",
    "\n",
    "sc = SparkContext()"
   ]
  },
  {
   "cell_type": "code",
   "execution_count": 20,
   "metadata": {},
   "outputs": [],
   "source": [
    "spark = SparkSession.builder \\\n",
    "    .master(\"local\") \\\n",
    "    .appName(\"Word Count\") \\\n",
    "    .config(\"spark.some.config.option\", \"some-value\") \\\n",
    "    .getOrCreate()"
   ]
  },
  {
   "cell_type": "code",
   "execution_count": 40,
   "metadata": {},
   "outputs": [],
   "source": [
    "df = spark.read.option(\"delimeter\", \",\").option('header',True).csv('2019-10-UTF.csv')"
   ]
  },
  {
   "cell_type": "code",
   "execution_count": 41,
   "metadata": {
    "scrolled": true
   },
   "outputs": [
    {
     "data": {
      "text/plain": [
       "16942476"
      ]
     },
     "execution_count": 41,
     "metadata": {},
     "output_type": "execute_result"
    }
   ],
   "source": [
    "df.count()"
   ]
  },
  {
   "cell_type": "code",
   "execution_count": null,
   "metadata": {},
   "outputs": [],
   "source": []
  },
  {
   "cell_type": "code",
   "execution_count": 43,
   "metadata": {},
   "outputs": [
    {
     "data": {
      "text/plain": [
       "[Row(회원_시도명='충북', 회원_시군구명='충주시', 개인기업구분='개인', 성별='1.남성', 연령='2.20대', 매출년월일='191002', 승인시간대1='19', 가맹점_시도명='충북', 가맹점_시군구명='충주시', 가맹점_읍면동명='호암동', 가맹점업종코드='4112', 결제금액='76020', 결제건수='5', 회원수='4'),\n",
       " Row(회원_시도명='충북', 회원_시군구명='충주시', 개인기업구분='개인', 성별='1.남성', 연령='2.20대', 매출년월일='191001', 승인시간대1='22', 가맹점_시도명='충북', 가맹점_시군구명='충주시', 가맹점_읍면동명='호암동', 가맹점업종코드='4112', 결제금액='12350', 결제건수='3', 회원수='3'),\n",
       " Row(회원_시도명='충북', 회원_시군구명='충주시', 개인기업구분='개인', 성별='2.여성', 연령='3.30대', 매출년월일='191017', 승인시간대1='11', 가맹점_시도명='충북', 가맹점_시군구명='충주시', 가맹점_읍면동명='호암동', 가맹점업종코드='9011', 결제금액='1068000', 결제건수='3', 회원수='3')]"
      ]
     },
     "execution_count": 43,
     "metadata": {},
     "output_type": "execute_result"
    }
   ],
   "source": [
    "df.tail(3)"
   ]
  },
  {
   "cell_type": "code",
   "execution_count": 29,
   "metadata": {},
   "outputs": [],
   "source": [
    "rdd = sc.parallelize(df.collect())\n"
   ]
  },
  {
   "cell_type": "code",
   "execution_count": 30,
   "metadata": {
    "scrolled": true
   },
   "outputs": [
    {
     "data": {
      "text/plain": [
       "1048577"
      ]
     },
     "execution_count": 30,
     "metadata": {},
     "output_type": "execute_result"
    }
   ],
   "source": [
    "rdd.count()"
   ]
  },
  {
   "cell_type": "code",
   "execution_count": 23,
   "metadata": {},
   "outputs": [
    {
     "data": {
      "text/plain": [
       "[Row(성별='1.남성', 연령='4.40대', 승인시간대1='13', 가맹점업종코드='2004'),\n",
       " Row(성별='3.기업', 연령='0.기타', 승인시간대1='12', 가맹점업종코드='2104'),\n",
       " Row(성별='3.기업', 연령='0.기타', 승인시간대1='12', 가맹점업종코드='2104')]"
      ]
     },
     "execution_count": 23,
     "metadata": {},
     "output_type": "execute_result"
    }
   ],
   "source": [
    "rdd.collect()[:3]"
   ]
  },
  {
   "cell_type": "code",
   "execution_count": 24,
   "metadata": {},
   "outputs": [],
   "source": [
    "from pyspark.sql import Row"
   ]
  },
  {
   "cell_type": "code",
   "execution_count": 25,
   "metadata": {},
   "outputs": [],
   "source": [
    "rdd = rdd.map(lambda x: Row(성별=int(x[0][0]),\\\n",
    "                      연령=int(x[1][0]),\\\n",
    "                      승인시간대1 = int(x[2]),\\\n",
    "                      가맹점업종코드 =int(x[3]) ))"
   ]
  },
  {
   "cell_type": "code",
   "execution_count": 26,
   "metadata": {},
   "outputs": [],
   "source": [
    "from pyspark.mllib.util import MLUtils\n",
    "from pyspark.mllib.regression import LabeledPoint\n"
   ]
  },
  {
   "cell_type": "code",
   "execution_count": 34,
   "metadata": {},
   "outputs": [
    {
     "data": {
      "text/plain": [
       "pyspark.rdd.PipelinedRDD"
      ]
     },
     "execution_count": 34,
     "metadata": {},
     "output_type": "execute_result"
    }
   ],
   "source": [
    "type(rdd)"
   ]
  },
  {
   "cell_type": "code",
   "execution_count": 27,
   "metadata": {
    "scrolled": true
   },
   "outputs": [],
   "source": [
    "c = rdd"
   ]
  },
  {
   "cell_type": "code",
   "execution_count": 28,
   "metadata": {},
   "outputs": [],
   "source": [
    "d = c.map(lambda line: LabeledPoint(line[3],[line[:3]])) # arbitrary mapping, it's just an example\n"
   ]
  },
  {
   "cell_type": "code",
   "execution_count": 29,
   "metadata": {
    "scrolled": false
   },
   "outputs": [
    {
     "name": "stdout",
     "output_type": "stream",
     "text": [
      "[LabeledPoint(2004.0, [1.0,4.0,13.0]), LabeledPoint(2104.0, [3.0,0.0,12.0]), LabeledPoint(2104.0, [3.0,0.0,12.0])]\n"
     ]
    }
   ],
   "source": [
    "print(d.take(3))"
   ]
  },
  {
   "cell_type": "code",
   "execution_count": 30,
   "metadata": {},
   "outputs": [
    {
     "data": {
      "text/plain": [
       "pyspark.rdd.PipelinedRDD"
      ]
     },
     "execution_count": 30,
     "metadata": {},
     "output_type": "execute_result"
    }
   ],
   "source": [
    "type(d)"
   ]
  },
  {
   "cell_type": "code",
   "execution_count": null,
   "metadata": {},
   "outputs": [],
   "source": []
  },
  {
   "cell_type": "code",
   "execution_count": 36,
   "metadata": {},
   "outputs": [
    {
     "name": "stdout",
     "output_type": "stream",
     "text": [
      "[range(1, 2), range(1, 3), range(1, 4)]\n",
      "[1, 1, 2, 1, 2, 3]\n"
     ]
    }
   ],
   "source": [
    "simpleRDD = sc.parallelize([2,3,4])\n",
    "\n",
    "print(simpleRDD.map(lambda x: range(1,x)).collect())\n",
    "\n",
    "print(simpleRDD.flatMap(lambda x: range(1,x)).collect())\n"
   ]
  },
  {
   "cell_type": "code",
   "execution_count": null,
   "metadata": {},
   "outputs": [],
   "source": []
  },
  {
   "cell_type": "code",
   "execution_count": null,
   "metadata": {},
   "outputs": [],
   "source": []
  }
 ],
 "metadata": {
  "kernelspec": {
   "display_name": "Python 3",
   "language": "python",
   "name": "python3"
  },
  "language_info": {
   "codemirror_mode": {
    "name": "ipython",
    "version": 3
   },
   "file_extension": ".py",
   "mimetype": "text/x-python",
   "name": "python",
   "nbconvert_exporter": "python",
   "pygments_lexer": "ipython3",
   "version": "3.8.3"
  }
 },
 "nbformat": 4,
 "nbformat_minor": 4
}
