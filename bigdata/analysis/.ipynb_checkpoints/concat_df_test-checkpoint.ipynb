{
 "cells": [
  {
   "cell_type": "code",
   "execution_count": 1,
   "metadata": {},
   "outputs": [],
   "source": [
    "from pyspark.sql import SQLContext\n",
    "from pyspark.sql.functions import *\n",
    "from pyspark import SparkContext\n",
    "from pyspark.sql.types import *\n",
    "from functools import reduce\n",
    "from pyspark.sql import DataFrame\n",
    "from pyspark.sql import SparkSession\n",
    "from pyspark.sql import Row\n",
    "import pyspark.sql.functions as f\n",
    "import time\n",
    "\n",
    "import pandas as pd\n",
    "import numpy as np"
   ]
  },
  {
   "cell_type": "code",
   "execution_count": 2,
   "metadata": {},
   "outputs": [],
   "source": [
    "# from pyspark.sql import SparkSession\n",
    "\n",
    "# spark = SparkSession.builder \\\n",
    "#     .master('local[*]') \\\n",
    "#     .config(\"spark.driver.memory\", \"15g\") \\\n",
    "#     .appName('my-cool-app') \\\n",
    "#     .getOrCreate()"
   ]
  },
  {
   "cell_type": "code",
   "execution_count": 3,
   "metadata": {},
   "outputs": [],
   "source": [
    "sc = SparkContext('local')\n",
    "sqlContext = SQLContext(sc)\n",
    "spark = SparkSession(sc)"
   ]
  },
  {
   "cell_type": "code",
   "execution_count": 4,
   "metadata": {},
   "outputs": [],
   "source": [
    "csv_list = [\"09\",\"10\",\"11\",\"12\"]\n",
    "df_list = []\n",
    "for listname in csv_list:\n",
    "    df = sqlContext.read.format('com.databricks.spark.csv')\\\n",
    "        .options(header='true', inferSchema='true')\\\n",
    "        .load('C:/ssafy/2nd/s03p22a305/bigdata/analysis/2019-'+listname+'-UTF.csv')\\\n",
    "        .cache()\n",
    "    \n",
    "    # 기업 데이터 제거\n",
    "    df = df.filter(df.개인기업구분 != \"기업\")\n",
    "    df = df.filter(df.성별 != \"0.기타\")\n",
    "    removeColList = [\"회원_시도명\", \"회원_시군구명\", \"개인기업구분\", \"매출년월일\", \"가맹점_시도명\", \"가맹점_시군구명\", \"가맹점_읍면동명\",\"결제금액\", \"결제건수\"]\n",
    "    for ls in removeColList:\n",
    "        df = df.drop(ls)\n",
    "\n",
    "    df_list.append(df)"
   ]
  },
  {
   "cell_type": "markdown",
   "metadata": {},
   "source": [
    "start = time.time()  # 시작 시간 저장\n",
    "\n",
    "df_list[0].show()\n",
    "\n",
    "print(\"time :\", time.time() - start)  # 현재시각 - 시작시간 = 실행 시간"
   ]
  },
  {
   "cell_type": "code",
   "execution_count": 5,
   "metadata": {},
   "outputs": [],
   "source": [
    "# schema = StructType([StructField(\"성별\", StringType(), True), StructField(\"연령\", StringType(), False),\\\n",
    "#                      StructField(\"승인시간대1\", IntegerType(), True), StructField(\"가맹점업종코드\", IntegerType(), True)])\n",
    "\n",
    "# df_all = sqlContext.createDataFrame([],schema)\n",
    "df_all = df_list[0]\n",
    "# df_all.show()"
   ]
  },
  {
   "cell_type": "code",
   "execution_count": 6,
   "metadata": {},
   "outputs": [
    {
     "name": "stdout",
     "output_type": "stream",
     "text": [
      "1\n",
      "2\n",
      "3\n"
     ]
    }
   ],
   "source": [
    "for idx, df in enumerate(df_list):\n",
    "    if(idx == 0):\n",
    "        continue\n",
    "    print(idx)\n",
    "    df_all = df_all.union(df)"
   ]
  },
  {
   "cell_type": "markdown",
   "metadata": {},
   "source": [
    "df_all.show()"
   ]
  },
  {
   "cell_type": "code",
   "execution_count": 7,
   "metadata": {},
   "outputs": [
    {
     "data": {
      "text/plain": [
       "<bound method DataFrame.colRegex of DataFrame[성별: string, 연령: string, 승인시간대1: int, 가맹점업종코드: int, 회원수: int]>"
      ]
     },
     "execution_count": 7,
     "metadata": {},
     "output_type": "execute_result"
    }
   ],
   "source": [
    "df_all.colRegex"
   ]
  },
  {
   "cell_type": "code",
   "execution_count": 8,
   "metadata": {},
   "outputs": [],
   "source": [
    "df_all_renamed = df_all.withColumnRenamed(\"성별\", \"gender\")\\\n",
    "                        .withColumnRenamed(\"연령\", \"age\")\\\n",
    "                        .withColumnRenamed(\"승인시간대1\", \"time\")\\\n",
    "                        .withColumnRenamed(\"가맹점업종코드\", \"code\")\\\n",
    "                        .withColumnRenamed(\"회원수\", \"n\")                        "
   ]
  },
  {
   "cell_type": "markdown",
   "metadata": {},
   "source": [
    "df_all_renamed.show()"
   ]
  },
  {
   "cell_type": "code",
   "execution_count": 9,
   "metadata": {},
   "outputs": [
    {
     "data": {
      "text/plain": [
       "MapPartitionsRDD[67] at javaToPython at NativeMethodAccessorImpl.java:0"
      ]
     },
     "execution_count": 9,
     "metadata": {},
     "output_type": "execute_result"
    }
   ],
   "source": [
    "rdd = df_all_renamed.rdd\n",
    "rdd"
   ]
  },
  {
   "cell_type": "markdown",
   "metadata": {},
   "source": [
    "rdd.take(3)"
   ]
  },
  {
   "cell_type": "code",
   "execution_count": 10,
   "metadata": {},
   "outputs": [],
   "source": [
    "rdd = rdd.map(lambda x: Row(gender=int(x[0][0]),\\\n",
    "                      age=int(x[1][0]),\\\n",
    "                      time = int(x[2]),\\\n",
    "                      code =int(x[3]),\\\n",
    "                        n = int(x[4])))"
   ]
  },
  {
   "cell_type": "code",
   "execution_count": 13,
   "metadata": {},
   "outputs": [
    {
     "data": {
      "text/plain": [
       "Row(gender=1, age=4, time=13, code=2004, n=3)"
      ]
     },
     "execution_count": 13,
     "metadata": {},
     "output_type": "execute_result"
    }
   ],
   "source": [
    "rdd.take(3)[0]"
   ]
  },
  {
   "cell_type": "markdown",
   "metadata": {},
   "source": [
    "type(rdd)"
   ]
  },
  {
   "cell_type": "code",
   "execution_count": 14,
   "metadata": {},
   "outputs": [],
   "source": [
    "schema = StructType([StructField(\"gender\", StringType(), True), StructField(\"age\", StringType(), True),\\\n",
    "                     StructField(\"time\", IntegerType(), True), StructField(\"code\", IntegerType(), True), StructField(\"n\", IntegerType(), True)])\n"
   ]
  },
  {
   "cell_type": "code",
   "execution_count": 15,
   "metadata": {},
   "outputs": [],
   "source": [
    "# df_mapped = spark.createDataFrame(rdd, schema).cache()\n",
    "df_mapped = spark.createDataFrame(rdd, schema)"
   ]
  },
  {
   "cell_type": "code",
   "execution_count": 16,
   "metadata": {},
   "outputs": [
    {
     "name": "stdout",
     "output_type": "stream",
     "text": [
      "+------+---+----+----+---+\n",
      "|gender|age|time|code|  n|\n",
      "+------+---+----+----+---+\n",
      "|     1|  4|  13|2004|  3|\n",
      "|     1|  4|   6|2104|  3|\n",
      "|     1|  4|   7|2104|  5|\n",
      "|     1|  4|  11|2104|  3|\n",
      "|     1|  4|   6|2104|  5|\n",
      "|     1|  4|  17|2104|  3|\n",
      "|     1|  4|   7|2104|  6|\n",
      "|     1|  4|  11|2104|  3|\n",
      "|     1|  4|   7|2104|  5|\n",
      "|     1|  4|   6|2104|  5|\n",
      "|     1|  4|   7|2104|  6|\n",
      "|     1|  4|   7|2104|  4|\n",
      "|     1|  4|   6|2104|  6|\n",
      "|     1|  5|  11|2104|  3|\n",
      "|     1|  4|   7|2104|  5|\n",
      "|     1|  4|   6|2104|  3|\n",
      "|     1|  4|  11|2104|  3|\n",
      "|     1|  2|  11|2104|  3|\n",
      "|     1|  4|   6|2104|  3|\n",
      "|     1|  4|   7|2104|  7|\n",
      "+------+---+----+----+---+\n",
      "only showing top 20 rows\n",
      "\n",
      "time : 0.7819619178771973\n"
     ]
    }
   ],
   "source": [
    "# 캐싱 없이 쇼\n",
    "start = time.time()  # 시작 시간 저장\n",
    "\n",
    "df_mapped.show()\n",
    "\n",
    "print(\"time :\", time.time() - start)  # 현재시각 - 시작시간 = 실행 시간"
   ]
  },
  {
   "cell_type": "code",
   "execution_count": 17,
   "metadata": {},
   "outputs": [
    {
     "name": "stdout",
     "output_type": "stream",
     "text": [
      "+------+---+----+----+---+\n",
      "|gender|age|time|code|  n|\n",
      "+------+---+----+----+---+\n",
      "|     1|  4|  13|2004|  3|\n",
      "|     1|  4|   6|2104|  3|\n",
      "|     1|  4|   7|2104|  5|\n",
      "|     1|  4|  11|2104|  3|\n",
      "|     1|  4|   6|2104|  5|\n",
      "|     1|  4|  17|2104|  3|\n",
      "|     1|  4|   7|2104|  6|\n",
      "|     1|  4|  11|2104|  3|\n",
      "|     1|  4|   7|2104|  5|\n",
      "|     1|  4|   6|2104|  5|\n",
      "|     1|  4|   7|2104|  6|\n",
      "|     1|  4|   7|2104|  4|\n",
      "|     1|  4|   6|2104|  6|\n",
      "|     1|  5|  11|2104|  3|\n",
      "|     1|  4|   7|2104|  5|\n",
      "|     1|  4|   6|2104|  3|\n",
      "|     1|  4|  11|2104|  3|\n",
      "|     1|  2|  11|2104|  3|\n",
      "|     1|  4|   6|2104|  3|\n",
      "|     1|  4|   7|2104|  7|\n",
      "+------+---+----+----+---+\n",
      "only showing top 20 rows\n",
      "\n",
      "time : 0.6209750175476074\n"
     ]
    }
   ],
   "source": [
    "# 캐싱 없이 재차 쇼\n",
    "start = time.time()  # 시작 시간 저장\n",
    "\n",
    "df_mapped.show()\n",
    "\n",
    "print(\"time :\", time.time() - start)  # 현재시각 - 시작시간 = 실행 시간"
   ]
  },
  {
   "cell_type": "code",
   "execution_count": 18,
   "metadata": {},
   "outputs": [
    {
     "name": "stdout",
     "output_type": "stream",
     "text": [
      "+------+---+----+----+---+\n",
      "|gender|age|time|code|  n|\n",
      "+------+---+----+----+---+\n",
      "|     1|  4|  13|2004|  3|\n",
      "|     1|  4|   6|2104|  3|\n",
      "|     1|  4|   7|2104|  5|\n",
      "|     1|  4|  11|2104|  3|\n",
      "|     1|  4|   6|2104|  5|\n",
      "|     1|  4|  17|2104|  3|\n",
      "|     1|  4|   7|2104|  6|\n",
      "|     1|  4|  11|2104|  3|\n",
      "|     1|  4|   7|2104|  5|\n",
      "|     1|  4|   6|2104|  5|\n",
      "|     1|  4|   7|2104|  6|\n",
      "|     1|  4|   7|2104|  4|\n",
      "|     1|  4|   6|2104|  6|\n",
      "|     1|  5|  11|2104|  3|\n",
      "|     1|  4|   7|2104|  5|\n",
      "|     1|  4|   6|2104|  3|\n",
      "|     1|  4|  11|2104|  3|\n",
      "|     1|  2|  11|2104|  3|\n",
      "|     1|  4|   6|2104|  3|\n",
      "|     1|  4|   7|2104|  7|\n",
      "+------+---+----+----+---+\n",
      "only showing top 20 rows\n",
      "\n",
      "time : 15.608822345733643\n"
     ]
    }
   ],
   "source": [
    "# 캐싱 후 쇼\n",
    "df_mapped.persist()\n",
    "start = time.time()  # 시작 시간 저장\n",
    "\n",
    "df_mapped.show()\n",
    "\n",
    "print(\"time :\", time.time() - start)  # 현재시각 - 시작시간 = 실행 시간"
   ]
  },
  {
   "cell_type": "code",
   "execution_count": 19,
   "metadata": {},
   "outputs": [
    {
     "name": "stdout",
     "output_type": "stream",
     "text": [
      "+------+---+----+----+---+\n",
      "|gender|age|time|code|  n|\n",
      "+------+---+----+----+---+\n",
      "|     1|  4|  13|2004|  3|\n",
      "|     1|  4|   6|2104|  3|\n",
      "|     1|  4|   7|2104|  5|\n",
      "|     1|  4|  11|2104|  3|\n",
      "|     1|  4|   6|2104|  5|\n",
      "|     1|  4|  17|2104|  3|\n",
      "|     1|  4|   7|2104|  6|\n",
      "|     1|  4|  11|2104|  3|\n",
      "|     1|  4|   7|2104|  5|\n",
      "|     1|  4|   6|2104|  5|\n",
      "|     1|  4|   7|2104|  6|\n",
      "|     1|  4|   7|2104|  4|\n",
      "|     1|  4|   6|2104|  6|\n",
      "|     1|  5|  11|2104|  3|\n",
      "|     1|  4|   7|2104|  5|\n",
      "|     1|  4|   6|2104|  3|\n",
      "|     1|  4|  11|2104|  3|\n",
      "|     1|  2|  11|2104|  3|\n",
      "|     1|  4|   6|2104|  3|\n",
      "|     1|  4|   7|2104|  7|\n",
      "+------+---+----+----+---+\n",
      "only showing top 20 rows\n",
      "\n",
      "time : 0.06800150871276855\n"
     ]
    }
   ],
   "source": [
    "start = time.time()  # 시작 시간 저장\n",
    "\n",
    "df_mapped.show()\n",
    "\n",
    "print(\"time :\", time.time() - start)  # 현재시각 - 시작시간 = 실행 시간"
   ]
  },
  {
   "cell_type": "markdown",
   "metadata": {},
   "source": [
    "df_mapped.unpersist()"
   ]
  },
  {
   "cell_type": "markdown",
   "metadata": {},
   "source": [
    "start = time.time()  # 시작 시간 저장\n",
    "\n",
    "df_mapped.show()\n",
    "\n",
    "print(\"time :\", time.time() - start)  # 현재시각 - 시작시간 = 실행 시간"
   ]
  },
  {
   "cell_type": "code",
   "execution_count": 20,
   "metadata": {},
   "outputs": [],
   "source": [
    "df_mapped.registerTempTable(\"df_tmp\")"
   ]
  },
  {
   "cell_type": "markdown",
   "metadata": {},
   "source": [
    "df_mapped.count()"
   ]
  },
  {
   "cell_type": "code",
   "execution_count": 29,
   "metadata": {},
   "outputs": [],
   "source": [
    "# 코드 형식\n",
    "# df_mapped.groupBy('gender', 'age','time', 'code').count().select('gender','age','time', f.col('count').alias('n')).show()\n",
    "\n",
    "# df_mapped.groupBy('gender', 'age','time', 'code').sum('n').show() # count().select('gender','age','time', f.col('count').alias('n')).show()\n",
    "df_group = df_mapped.groupBy('gender', 'age','time', 'code').sum('n')"
   ]
  },
  {
   "cell_type": "markdown",
   "metadata": {},
   "source": [
    "# 쿼리 형식\n",
    "df_group = sqlContext.sql(\"select *, sum(n) as cnt from df_tmp group by gender, age, time, code\")"
   ]
  },
  {
   "cell_type": "code",
   "execution_count": 33,
   "metadata": {},
   "outputs": [
    {
     "data": {
      "text/plain": [
       "['gender', 'age', 'time', 'code', 'total']"
      ]
     },
     "execution_count": 33,
     "metadata": {},
     "output_type": "execute_result"
    }
   ],
   "source": [
    "df_group = df_group.withColumnRenamed(\"sum(n)\", \"total\")\n",
    "df_group.columns"
   ]
  },
  {
   "cell_type": "markdown",
   "metadata": {},
   "source": [
    "df_group.show()"
   ]
  },
  {
   "cell_type": "code",
   "execution_count": null,
   "metadata": {},
   "outputs": [],
   "source": [
    "df_group.registerTempTable(\"df_group\")"
   ]
  },
  {
   "cell_type": "code",
   "execution_count": null,
   "metadata": {},
   "outputs": [],
   "source": [
    "gender = 1\n",
    "age = 2\n",
    "time = 17\n"
   ]
  },
  {
   "cell_type": "code",
   "execution_count": null,
   "metadata": {
    "scrolled": true
   },
   "outputs": [],
   "source": [
    "query = \"select code, total from df_group where gender=\"+str(gender)+\" and age=\"+str(age)+\" and time=\"+str(time) +\" order by total desc\"\n",
    "query"
   ]
  },
  {
   "cell_type": "code",
   "execution_count": 139,
   "metadata": {},
   "outputs": [],
   "source": [
    "selected_df = sqlContext.sql(query)\n",
    "selected_df.persist\n",
    "# selected_df.show()"
   ]
  },
  {
   "cell_type": "code",
   "execution_count": 140,
   "metadata": {},
   "outputs": [
    {
     "data": {
      "text/plain": [
       "['code', 'cnt']"
      ]
     },
     "execution_count": 140,
     "metadata": {},
     "output_type": "execute_result"
    }
   ],
   "source": [
    "selected_df.columns"
   ]
  },
  {
   "cell_type": "markdown",
   "metadata": {},
   "source": [
    "selected_df.describe()"
   ]
  },
  {
   "cell_type": "code",
   "execution_count": 142,
   "metadata": {},
   "outputs": [
    {
     "name": "stdout",
     "output_type": "stream",
     "text": [
      "+----+------+\n",
      "|code|   cnt|\n",
      "+----+------+\n",
      "|4112|141347|\n",
      "|4120| 64607|\n",
      "|6018| 63839|\n",
      "|2004| 48111|\n",
      "|4101| 43273|\n",
      "|2199| 32322|\n",
      "|2104| 26995|\n",
      "|5306| 25448|\n",
      "|4110| 20672|\n",
      "|2099| 19688|\n",
      "|4202| 18439|\n",
      "|2002| 16358|\n",
      "|4121| 11234|\n",
      "|7005|  9898|\n",
      "|2003|  9189|\n",
      "|7003|  8691|\n",
      "|7102|  8460|\n",
      "|5303|  5961|\n",
      "|5302|  5957|\n",
      "|5608|  4304|\n",
      "+----+------+\n",
      "only showing top 20 rows\n",
      "\n"
     ]
    }
   ],
   "source": [
    "selected_df.show()"
   ]
  },
  {
   "cell_type": "code",
   "execution_count": 107,
   "metadata": {},
   "outputs": [],
   "source": [
    "code_df = sqlContext.read.format('com.databricks.spark.csv')\\\n",
    "        .options(header='true', inferSchema='true')\\\n",
    "        .load('C:/ssafy/2nd/s03p22a305/bigdata/analysis/codelist-UTF.csv')\\\n",
    "        .cache()"
   ]
  },
  {
   "cell_type": "code",
   "execution_count": 118,
   "metadata": {},
   "outputs": [
    {
     "name": "stdout",
     "output_type": "stream",
     "text": [
      "+--------+-----------+------------------+----+----------------------------------+\n",
      "|업종분류|       업종|                업|코드|                  적용범위 및 기준|\n",
      "+--------+-----------+------------------+----+----------------------------------+\n",
      "|  의생활|       의류|          맞춤복점|1001|남성복 맞춤업소,여성복 맞춤업소...|\n",
      "|  의생활|       의류|            한복점|1003|  남.여 한복 맞춤업소, 개량한복...|\n",
      "|  의생활|       의류|          기성복점|1004|  의류대리점(모피 및 교복 포함)...|\n",
      "|  의생활|       의류|  아동 및 유아복점|1007|           아동복 및 유아복 판매점|\n",
      "|  의생활|       의류|        내의판매점|1008|    내의,타월,양말,스타킹등 판매점|\n",
      "|  의생활|       의류|            양품점|1010|             각종 양품,잡화 판매점|\n",
      "|  의생활|       의류|         기타 의류|1099|                              null|\n",
      "|  의생활|직물/침구류|        옷감판매점|1101|  양복,양장,한복등의 옷감 및 면...|\n",
      "|  의생활|직물/침구류|침구,커튼,카펫트점|1102|  이불,담요,베개,카바,커튼,카펫...|\n",
      "|  의생활|직물/침구류|            수예점|1104|   각종 수예품(자수,실포함) 판매점|\n",
      "|  의생활|직물/침구류|            자석요|1105|              자석요 수입,제조판매|\n",
      "|  의생활|직물/침구류|         기타 직물|1199|                              null|\n",
      "|  의생활|   신변잡화|        악세사리점|1201|패션주얼리전문점(예:미니골드 등...|\n",
      "|  의생활|   신변잡화|          귀금속점|1202|   금,은,보석등 (귀금속 및 시계...|\n",
      "|  의생활|   신변잡화|        시계전문점|1203|                각종 시계류 판매점|\n",
      "|  의생활|   신변잡화|            안경점|1204|        안경,콘택트렌즈,선글라스등|\n",
      "|  의생활|   신변잡화|            가방점|1205|         가방,핸드백,트렁크,지갑등|\n",
      "|  의생활|   신변잡화|            제화점|1206|           구두류 맞춤 및 판매업소|\n",
      "|  의생활|   신변잡화|        일반신발점|1207|  구두류를 제외한 각종 신발 및 ...|\n",
      "|  의생활|   신변잡화|        가발전문점|1208|  가발판매 전문점(미용재료업 제외)|\n",
      "+--------+-----------+------------------+----+----------------------------------+\n",
      "only showing top 20 rows\n",
      "\n"
     ]
    }
   ],
   "source": [
    "code_df.show()"
   ]
  },
  {
   "cell_type": "code",
   "execution_count": null,
   "metadata": {},
   "outputs": [],
   "source": []
  },
  {
   "cell_type": "code",
   "execution_count": null,
   "metadata": {},
   "outputs": [],
   "source": []
  },
  {
   "cell_type": "code",
   "execution_count": null,
   "metadata": {},
   "outputs": [],
   "source": []
  },
  {
   "cell_type": "code",
   "execution_count": null,
   "metadata": {},
   "outputs": [],
   "source": []
  }
 ],
 "metadata": {
  "kernelspec": {
   "display_name": "Python 3",
   "language": "python",
   "name": "python3"
  },
  "language_info": {
   "codemirror_mode": {
    "name": "ipython",
    "version": 3
   },
   "file_extension": ".py",
   "mimetype": "text/x-python",
   "name": "python",
   "nbconvert_exporter": "python",
   "pygments_lexer": "ipython3",
   "version": "3.8.3"
  }
 },
 "nbformat": 4,
 "nbformat_minor": 4
}
