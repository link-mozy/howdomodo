{
 "cells": [
  {
   "cell_type": "code",
   "execution_count": 2,
   "metadata": {},
   "outputs": [],
   "source": [
    "# import modules\n",
    "from pyspark.sql import SQLContext\n",
    "from pyspark.sql.functions import *\n",
    "from pyspark import SparkContext\n",
    "import pandas as pd\n",
    "import numpy as np\n"
   ]
  },
  {
   "cell_type": "code",
   "execution_count": 3,
   "metadata": {
    "scrolled": true
   },
   "outputs": [],
   "source": [
    "sc = SparkContext()\n",
    "sqlContext = SQLContext(sc)"
   ]
  },
  {
   "cell_type": "code",
   "execution_count": 24,
   "metadata": {},
   "outputs": [],
   "source": [
    "# read the csv with library\n",
    "df = sqlContext.read.format('com.databricks.spark.csv')\\\n",
    "\t\t\t\t\t.options(header='true', inferSchema='true')\\\n",
    "\t\t\t\t\t.load('C:/ssafy/2nd/s03p22a305/bigdata/basic/2019-09.csv')\\\n",
    "\t\t\t\t\t.cache()\n"
   ]
  },
  {
   "cell_type": "code",
   "execution_count": 30,
   "metadata": {},
   "outputs": [
    {
     "data": {
      "text/plain": [
       "pyspark.sql.dataframe.DataFrame"
      ]
     },
     "execution_count": 30,
     "metadata": {},
     "output_type": "execute_result"
    }
   ],
   "source": []
  },
  {
   "cell_type": "code",
   "execution_count": 25,
   "metadata": {},
   "outputs": [],
   "source": [
    "df = df.selectExpr(\"'성별' as gender\", \"'연령' as age\", \"'승인시간대1' as time\", \"'가맹점업종코드' as code\")"
   ]
  },
  {
   "cell_type": "code",
   "execution_count": 26,
   "metadata": {},
   "outputs": [
    {
     "name": "stdout",
     "output_type": "stream",
     "text": [
      "root\n",
      " |-- gender: string (nullable = false)\n",
      " |-- age: string (nullable = false)\n",
      " |-- time: string (nullable = false)\n",
      " |-- code: string (nullable = false)\n",
      "\n"
     ]
    }
   ],
   "source": [
    "df.printSchema()\n",
    "df.count()\n",
    "\n",
    "# convert the df to tmp table (as if it's in database)\n",
    "df.registerTempTable(\"df_tmp\")"
   ]
  },
  {
   "cell_type": "code",
   "execution_count": 29,
   "metadata": {},
   "outputs": [
    {
     "name": "stdout",
     "output_type": "stream",
     "text": [
      "1048575\n",
      "0\n"
     ]
    }
   ],
   "source": [
    "# extract data from table with sql\n",
    "df1 = sqlContext.sql(\"select * from df_tmp where time >=10\")\n",
    "\n",
    "# # other sql examples\n",
    "# sqlContext.sql(\"select datetime, count(1) from df_tmp group by datetime order by datetime\").show()\n",
    "# sqlContext.sql(\"select count(distinct sessionid) as session_cnt from df_tmp where documentposition = 'MYPOLARISDRIVE' group by ext having count(distinct sessionid) \").show()\n",
    "\n",
    "print(df.count())\n",
    "print(df1.count())\n"
   ]
  },
  {
   "cell_type": "code",
   "execution_count": 28,
   "metadata": {},
   "outputs": [
    {
     "ename": "AnalysisException",
     "evalue": "cannot resolve '`sessionid`' given input columns: [df_tmp.age, df_tmp.code, df_tmp.gender, df_tmp.time];;\n'Project ['sessionid, 'ext]\n+- Project [gender#1466, age#1467, time#1468, code#1469]\n   +- SubqueryAlias df_tmp\n      +- Project [성별 AS gender#1466, 연령 AS age#1467, 승인시간대1 AS time#1468, 가맹점업종코드 AS code#1469]\n         +- Relation[성별#1458,연령#1459,승인시간대1#1460,가맹점업종코드#1461] csv\n",
     "output_type": "error",
     "traceback": [
      "\u001b[1;31m---------------------------------------------------------------------------\u001b[0m",
      "\u001b[1;31mAnalysisException\u001b[0m                         Traceback (most recent call last)",
      "\u001b[1;32m<ipython-input-28-3d7221a83968>\u001b[0m in \u001b[0;36m<module>\u001b[1;34m\u001b[0m\n\u001b[0;32m      2\u001b[0m \u001b[0mdf2\u001b[0m \u001b[1;33m=\u001b[0m \u001b[0msqlContext\u001b[0m\u001b[1;33m.\u001b[0m\u001b[0msql\u001b[0m\u001b[1;33m(\u001b[0m\u001b[1;34m\"select * from df_tmp\"\u001b[0m\u001b[1;33m)\u001b[0m\u001b[1;33m\u001b[0m\u001b[1;33m\u001b[0m\u001b[0m\n\u001b[0;32m      3\u001b[0m \u001b[1;33m\u001b[0m\u001b[0m\n\u001b[1;32m----> 4\u001b[1;33m \u001b[0mdf2_pdf\u001b[0m \u001b[1;33m=\u001b[0m \u001b[0mdf2\u001b[0m\u001b[1;33m.\u001b[0m\u001b[0mselect\u001b[0m\u001b[1;33m(\u001b[0m\u001b[1;34m\"sessionid\"\u001b[0m\u001b[1;33m,\u001b[0m \u001b[1;34m\"ext\"\u001b[0m\u001b[1;33m)\u001b[0m\u001b[1;33m.\u001b[0m\u001b[0mfilter\u001b[0m\u001b[1;33m(\u001b[0m\u001b[1;34m\" ext == 'PDF' or ext = 'DOC'\"\u001b[0m\u001b[1;33m)\u001b[0m\u001b[1;33m.\u001b[0m\u001b[0mdropDuplicates\u001b[0m\u001b[1;33m(\u001b[0m\u001b[1;33m)\u001b[0m\u001b[1;33m.\u001b[0m\u001b[0mcache\u001b[0m\u001b[1;33m(\u001b[0m\u001b[1;33m)\u001b[0m\u001b[1;33m\u001b[0m\u001b[1;33m\u001b[0m\u001b[0m\n\u001b[0m\u001b[0;32m      5\u001b[0m \u001b[0mdf2_pdf\u001b[0m\u001b[1;33m.\u001b[0m\u001b[0mdistinct\u001b[0m\u001b[1;33m(\u001b[0m\u001b[1;33m)\u001b[0m\u001b[1;33m.\u001b[0m\u001b[0mcount\u001b[0m\u001b[1;33m(\u001b[0m\u001b[1;33m)\u001b[0m\u001b[1;33m\u001b[0m\u001b[1;33m\u001b[0m\u001b[0m\n",
      "\u001b[1;32m~\\anaconda3\\lib\\site-packages\\pyspark\\sql\\dataframe.py\u001b[0m in \u001b[0;36mselect\u001b[1;34m(self, *cols)\u001b[0m\n\u001b[0;32m   1419\u001b[0m         \u001b[1;33m[\u001b[0m\u001b[0mRow\u001b[0m\u001b[1;33m(\u001b[0m\u001b[0mname\u001b[0m\u001b[1;33m=\u001b[0m\u001b[1;34mu'Alice'\u001b[0m\u001b[1;33m,\u001b[0m \u001b[0mage\u001b[0m\u001b[1;33m=\u001b[0m\u001b[1;36m12\u001b[0m\u001b[1;33m)\u001b[0m\u001b[1;33m,\u001b[0m \u001b[0mRow\u001b[0m\u001b[1;33m(\u001b[0m\u001b[0mname\u001b[0m\u001b[1;33m=\u001b[0m\u001b[1;34mu'Bob'\u001b[0m\u001b[1;33m,\u001b[0m \u001b[0mage\u001b[0m\u001b[1;33m=\u001b[0m\u001b[1;36m15\u001b[0m\u001b[1;33m)\u001b[0m\u001b[1;33m]\u001b[0m\u001b[1;33m\u001b[0m\u001b[1;33m\u001b[0m\u001b[0m\n\u001b[0;32m   1420\u001b[0m         \"\"\"\n\u001b[1;32m-> 1421\u001b[1;33m         \u001b[0mjdf\u001b[0m \u001b[1;33m=\u001b[0m \u001b[0mself\u001b[0m\u001b[1;33m.\u001b[0m\u001b[0m_jdf\u001b[0m\u001b[1;33m.\u001b[0m\u001b[0mselect\u001b[0m\u001b[1;33m(\u001b[0m\u001b[0mself\u001b[0m\u001b[1;33m.\u001b[0m\u001b[0m_jcols\u001b[0m\u001b[1;33m(\u001b[0m\u001b[1;33m*\u001b[0m\u001b[0mcols\u001b[0m\u001b[1;33m)\u001b[0m\u001b[1;33m)\u001b[0m\u001b[1;33m\u001b[0m\u001b[1;33m\u001b[0m\u001b[0m\n\u001b[0m\u001b[0;32m   1422\u001b[0m         \u001b[1;32mreturn\u001b[0m \u001b[0mDataFrame\u001b[0m\u001b[1;33m(\u001b[0m\u001b[0mjdf\u001b[0m\u001b[1;33m,\u001b[0m \u001b[0mself\u001b[0m\u001b[1;33m.\u001b[0m\u001b[0msql_ctx\u001b[0m\u001b[1;33m)\u001b[0m\u001b[1;33m\u001b[0m\u001b[1;33m\u001b[0m\u001b[0m\n\u001b[0;32m   1423\u001b[0m \u001b[1;33m\u001b[0m\u001b[0m\n",
      "\u001b[1;32m~\\anaconda3\\lib\\site-packages\\py4j\\java_gateway.py\u001b[0m in \u001b[0;36m__call__\u001b[1;34m(self, *args)\u001b[0m\n\u001b[0;32m   1302\u001b[0m \u001b[1;33m\u001b[0m\u001b[0m\n\u001b[0;32m   1303\u001b[0m         \u001b[0manswer\u001b[0m \u001b[1;33m=\u001b[0m \u001b[0mself\u001b[0m\u001b[1;33m.\u001b[0m\u001b[0mgateway_client\u001b[0m\u001b[1;33m.\u001b[0m\u001b[0msend_command\u001b[0m\u001b[1;33m(\u001b[0m\u001b[0mcommand\u001b[0m\u001b[1;33m)\u001b[0m\u001b[1;33m\u001b[0m\u001b[1;33m\u001b[0m\u001b[0m\n\u001b[1;32m-> 1304\u001b[1;33m         return_value = get_return_value(\n\u001b[0m\u001b[0;32m   1305\u001b[0m             answer, self.gateway_client, self.target_id, self.name)\n\u001b[0;32m   1306\u001b[0m \u001b[1;33m\u001b[0m\u001b[0m\n",
      "\u001b[1;32m~\\anaconda3\\lib\\site-packages\\pyspark\\sql\\utils.py\u001b[0m in \u001b[0;36mdeco\u001b[1;34m(*a, **kw)\u001b[0m\n\u001b[0;32m    132\u001b[0m                 \u001b[1;31m# Hide where the exception came from that shows a non-Pythonic\u001b[0m\u001b[1;33m\u001b[0m\u001b[1;33m\u001b[0m\u001b[1;33m\u001b[0m\u001b[0m\n\u001b[0;32m    133\u001b[0m                 \u001b[1;31m# JVM exception message.\u001b[0m\u001b[1;33m\u001b[0m\u001b[1;33m\u001b[0m\u001b[1;33m\u001b[0m\u001b[0m\n\u001b[1;32m--> 134\u001b[1;33m                 \u001b[0mraise_from\u001b[0m\u001b[1;33m(\u001b[0m\u001b[0mconverted\u001b[0m\u001b[1;33m)\u001b[0m\u001b[1;33m\u001b[0m\u001b[1;33m\u001b[0m\u001b[0m\n\u001b[0m\u001b[0;32m    135\u001b[0m             \u001b[1;32melse\u001b[0m\u001b[1;33m:\u001b[0m\u001b[1;33m\u001b[0m\u001b[1;33m\u001b[0m\u001b[0m\n\u001b[0;32m    136\u001b[0m                 \u001b[1;32mraise\u001b[0m\u001b[1;33m\u001b[0m\u001b[1;33m\u001b[0m\u001b[0m\n",
      "\u001b[1;32m~\\anaconda3\\lib\\site-packages\\pyspark\\sql\\utils.py\u001b[0m in \u001b[0;36mraise_from\u001b[1;34m(e)\u001b[0m\n",
      "\u001b[1;31mAnalysisException\u001b[0m: cannot resolve '`sessionid`' given input columns: [df_tmp.age, df_tmp.code, df_tmp.gender, df_tmp.time];;\n'Project ['sessionid, 'ext]\n+- Project [gender#1466, age#1467, time#1468, code#1469]\n   +- SubqueryAlias df_tmp\n      +- Project [성별 AS gender#1466, 연령 AS age#1467, 승인시간대1 AS time#1468, 가맹점업종코드 AS code#1469]\n         +- Relation[성별#1458,연령#1459,승인시간대1#1460,가맹점업종코드#1461] csv\n"
     ]
    }
   ],
   "source": [
    "\n",
    "## Lazy Execution\n",
    "df2 = sqlContext.sql(\"select * from df_tmp\")\n",
    "\n",
    "df2_pdf = df2.select(\"sessionid\", \"ext\").filter(\" ext == 'PDF' or ext = 'DOC'\").dropDuplicates().cache()\n",
    "df2_pdf.distinct().count()\n"
   ]
  },
  {
   "cell_type": "code",
   "execution_count": 8,
   "metadata": {},
   "outputs": [
    {
     "name": "stdout",
     "output_type": "stream",
     "text": [
      "+--------------------+---------+\n",
      "|           sessionid| min_date|\n",
      "+--------------------+---------+\n",
      "|000ad8bfdff1ac4ab...|2016.7.17|\n",
      "|008e1cb0462257ec9...| 2016.7.3|\n",
      "|013f6c2b225e3367d...|2016.7.13|\n",
      "|01ef158e70ef4ce7b...| 2016.7.9|\n",
      "|02bb1592965d0dd8c...|2016.7.20|\n",
      "|03288dde777589053...| 2016.7.6|\n",
      "|0376d4749a8d1d710...|2016.7.24|\n",
      "|0378158b8aee19123...| 2016.7.1|\n",
      "|045c6e82a181152ae...|2016.7.27|\n",
      "|04917f8f10bf22dab...|2016.7.21|\n",
      "|04e0324d6a64c743d...|2016.7.19|\n",
      "|050a25d3b0bf9081e...|2016.7.20|\n",
      "|057cd5d22a7ebcf2b...|2016.7.28|\n",
      "|05b3df1764b2f8435...|2016.7.13|\n",
      "|06554b488500b58ea...|2016.7.15|\n",
      "|065f2825395cd914f...|2016.7.21|\n",
      "|07bdb289d126fa929...| 2016.7.6|\n",
      "|082e52a48bc92a8fa...|2016.7.29|\n",
      "|08f38ff50c2401683...|2016.7.28|\n",
      "|09a604c8fe3d4e3c9...|2016.7.25|\n",
      "+--------------------+---------+\n",
      "only showing top 20 rows\n",
      "\n",
      "+--------------------+---+---------+\n",
      "|           sessionid|ext| min_date|\n",
      "+--------------------+---+---------+\n",
      "|008e1cb0462257ec9...|PDF| 2016.7.3|\n",
      "|013f6c2b225e3367d...|PDF|2016.7.13|\n",
      "|02bb1592965d0dd8c...|DOC|2016.7.20|\n",
      "|0376d4749a8d1d710...|DOC|2016.7.24|\n",
      "|045c6e82a181152ae...|PDF|2016.7.27|\n",
      "|050a25d3b0bf9081e...|PDF|2016.7.20|\n",
      "|07bdb289d126fa929...|PDF| 2016.7.6|\n",
      "|09a604c8fe3d4e3c9...|PDF|2016.7.25|\n",
      "|0ceec7faa5315de34...|PDF| 2016.7.1|\n",
      "|0db9b1d879a02aa5f...|PDF|2016.7.26|\n",
      "|1096ac872ebf5b378...|PDF| 2016.7.5|\n",
      "|11818d845e6a3a47a...|PDF|2016.7.28|\n",
      "|1327ad759f8b306a7...|PDF|2016.7.15|\n",
      "|1423841b1a4dba316...|PDF|2016.7.27|\n",
      "|14e0f6e63b439b494...|PDF|2016.7.12|\n",
      "|176b49ac47de89ed0...|PDF|2016.7.30|\n",
      "|1795fea8fd01ec520...|PDF| 2016.7.9|\n",
      "|182b43429e15f51aa...|PDF|2016.7.13|\n",
      "|188aa9d6215c41e4a...|PDF| 2016.7.5|\n",
      "|1aff8c39db429f402...|PDF|2016.7.18|\n",
      "+--------------------+---+---------+\n",
      "only showing top 20 rows\n",
      "\n",
      "+-------+--------+----+-----------------+\n",
      "|summary|min_date| ext|              cnt|\n",
      "+-------+--------+----+-----------------+\n",
      "|  count|      60|  60|               60|\n",
      "|   mean|    null|null|809.6333333333333|\n",
      "| stddev|    null|null|473.5906108303528|\n",
      "|    min|2016.7.1| DOC|              231|\n",
      "|    max|2016.7.9| PDF|             1503|\n",
      "+-------+--------+----+-----------------+\n",
      "\n"
     ]
    }
   ],
   "source": [
    "df2_min_date = df2.groupby(\"sessionid\").agg(min(\"datetime\").alias(\"min_date\"))\n",
    "df2_min_date.show()\n",
    "\n",
    "df2_join = df2_pdf.join(df2_min_date, \"sessionid\", \"left\")\n",
    "df2_join.show()\n",
    "\n",
    "df2_join1 = df2_join.groupby(\"min_date\", \"ext\").agg(count(\"sessionid\").alias(\"cnt\"))\n",
    "\n",
    "df2_join1.describe().show()"
   ]
  },
  {
   "cell_type": "code",
   "execution_count": 9,
   "metadata": {
    "scrolled": true
   },
   "outputs": [
    {
     "data": {
      "text/plain": [
       "PDF      82004\n",
       "DOCX     58303\n",
       "XLSX     52118\n",
       "HWP      26244\n",
       "DOC      24586\n",
       "XLS      24489\n",
       "PPTX     15385\n",
       "TXT       9814\n",
       "PPT       5382\n",
       "PPSX      2374\n",
       "ODT        820\n",
       "PPS        324\n",
       "JPG          9\n",
       "SHEET        5\n",
       "WORD         2\n",
       "PNG          2\n",
       "Name: ext, dtype: int64"
      ]
     },
     "execution_count": 9,
     "metadata": {},
     "output_type": "execute_result"
    }
   ],
   "source": [
    "# Pandas\n",
    "df2_pd = df2.toPandas()\n",
    "df2_pd.groupby(\"ext\")['sessionid'].count().sort_values(ascending=False)\n",
    "df2_pd['ext'].value_counts()"
   ]
  },
  {
   "cell_type": "code",
   "execution_count": 10,
   "metadata": {},
   "outputs": [
    {
     "data": {
      "text/html": [
       "<div>\n",
       "<style scoped>\n",
       "    .dataframe tbody tr th:only-of-type {\n",
       "        vertical-align: middle;\n",
       "    }\n",
       "\n",
       "    .dataframe tbody tr th {\n",
       "        vertical-align: top;\n",
       "    }\n",
       "\n",
       "    .dataframe thead th {\n",
       "        text-align: right;\n",
       "    }\n",
       "</style>\n",
       "<table border=\"1\" class=\"dataframe\">\n",
       "  <thead>\n",
       "    <tr style=\"text-align: right;\">\n",
       "      <th></th>\n",
       "      <th>actiontype</th>\n",
       "      <th>ismydoc</th>\n",
       "      <th>ext</th>\n",
       "      <th>sessionid</th>\n",
       "      <th>documentposition</th>\n",
       "      <th>datetime</th>\n",
       "    </tr>\n",
       "  </thead>\n",
       "  <tbody>\n",
       "    <tr>\n",
       "      <th>0</th>\n",
       "      <td>OPEN</td>\n",
       "      <td>False</td>\n",
       "      <td>PDF</td>\n",
       "      <td>9400fd2e43d7dc2d054ca78806236ee1</td>\n",
       "      <td>LOCALSTORAGE</td>\n",
       "      <td>2016.7.18</td>\n",
       "    </tr>\n",
       "    <tr>\n",
       "      <th>1</th>\n",
       "      <td>CLOSE</td>\n",
       "      <td>False</td>\n",
       "      <td>PDF</td>\n",
       "      <td>9400fd2e43d7dc2d054ca78806236ee1</td>\n",
       "      <td>LOCALSTORAGE</td>\n",
       "      <td>2016.7.18</td>\n",
       "    </tr>\n",
       "    <tr>\n",
       "      <th>2</th>\n",
       "      <td>OPEN</td>\n",
       "      <td>True</td>\n",
       "      <td>PDF</td>\n",
       "      <td>9400fd2e43d7dc2d054ca78806236ee1</td>\n",
       "      <td>MYPOLARISDRIVE</td>\n",
       "      <td>2016.7.18</td>\n",
       "    </tr>\n",
       "    <tr>\n",
       "      <th>3</th>\n",
       "      <td>CLOSE</td>\n",
       "      <td>True</td>\n",
       "      <td>PDF</td>\n",
       "      <td>9400fd2e43d7dc2d054ca78806236ee1</td>\n",
       "      <td>MYPOLARISDRIVE</td>\n",
       "      <td>2016.7.18</td>\n",
       "    </tr>\n",
       "    <tr>\n",
       "      <th>4</th>\n",
       "      <td>OPEN</td>\n",
       "      <td>False</td>\n",
       "      <td>PDF</td>\n",
       "      <td>f191063c562691041dfa935ff0876975</td>\n",
       "      <td>OTHERAPP</td>\n",
       "      <td>2016.7.6</td>\n",
       "    </tr>\n",
       "    <tr>\n",
       "      <th>...</th>\n",
       "      <td>...</td>\n",
       "      <td>...</td>\n",
       "      <td>...</td>\n",
       "      <td>...</td>\n",
       "      <td>...</td>\n",
       "      <td>...</td>\n",
       "    </tr>\n",
       "    <tr>\n",
       "      <th>301856</th>\n",
       "      <td>CLOSE</td>\n",
       "      <td>True</td>\n",
       "      <td>XLSX</td>\n",
       "      <td>2ed068d5e6a72e80e4a997c01c59f782</td>\n",
       "      <td>OTHERAPP</td>\n",
       "      <td>2016.7.7</td>\n",
       "    </tr>\n",
       "    <tr>\n",
       "      <th>301857</th>\n",
       "      <td>OPEN</td>\n",
       "      <td>False</td>\n",
       "      <td>DOCX</td>\n",
       "      <td>41b8c1df291edd2aec30fc610e5b676e</td>\n",
       "      <td>OTHERAPP</td>\n",
       "      <td>2016.7.5</td>\n",
       "    </tr>\n",
       "    <tr>\n",
       "      <th>301858</th>\n",
       "      <td>RESET</td>\n",
       "      <td>True</td>\n",
       "      <td>DOCX</td>\n",
       "      <td>41b8c1df291edd2aec30fc610e5b676e</td>\n",
       "      <td>OTHERAPP</td>\n",
       "      <td>2016.7.5</td>\n",
       "    </tr>\n",
       "    <tr>\n",
       "      <th>301859</th>\n",
       "      <td>OPEN</td>\n",
       "      <td>False</td>\n",
       "      <td>PPT</td>\n",
       "      <td>9b5ee236571c2fcbe25132b6ba71d764</td>\n",
       "      <td>OTHERAPP</td>\n",
       "      <td>2016.7.14</td>\n",
       "    </tr>\n",
       "    <tr>\n",
       "      <th>301860</th>\n",
       "      <td>CLOSE</td>\n",
       "      <td>False</td>\n",
       "      <td>PPT</td>\n",
       "      <td>9b5ee236571c2fcbe25132b6ba71d764</td>\n",
       "      <td>OTHERAPP</td>\n",
       "      <td>2016.7.14</td>\n",
       "    </tr>\n",
       "  </tbody>\n",
       "</table>\n",
       "<p>301861 rows × 6 columns</p>\n",
       "</div>"
      ],
      "text/plain": [
       "       actiontype  ismydoc   ext                         sessionid  \\\n",
       "0            OPEN    False   PDF  9400fd2e43d7dc2d054ca78806236ee1   \n",
       "1           CLOSE    False   PDF  9400fd2e43d7dc2d054ca78806236ee1   \n",
       "2            OPEN     True   PDF  9400fd2e43d7dc2d054ca78806236ee1   \n",
       "3           CLOSE     True   PDF  9400fd2e43d7dc2d054ca78806236ee1   \n",
       "4            OPEN    False   PDF  f191063c562691041dfa935ff0876975   \n",
       "...           ...      ...   ...                               ...   \n",
       "301856      CLOSE     True  XLSX  2ed068d5e6a72e80e4a997c01c59f782   \n",
       "301857       OPEN    False  DOCX  41b8c1df291edd2aec30fc610e5b676e   \n",
       "301858      RESET     True  DOCX  41b8c1df291edd2aec30fc610e5b676e   \n",
       "301859       OPEN    False   PPT  9b5ee236571c2fcbe25132b6ba71d764   \n",
       "301860      CLOSE    False   PPT  9b5ee236571c2fcbe25132b6ba71d764   \n",
       "\n",
       "       documentposition   datetime  \n",
       "0          LOCALSTORAGE  2016.7.18  \n",
       "1          LOCALSTORAGE  2016.7.18  \n",
       "2        MYPOLARISDRIVE  2016.7.18  \n",
       "3        MYPOLARISDRIVE  2016.7.18  \n",
       "4              OTHERAPP   2016.7.6  \n",
       "...                 ...        ...  \n",
       "301856         OTHERAPP   2016.7.7  \n",
       "301857         OTHERAPP   2016.7.5  \n",
       "301858         OTHERAPP   2016.7.5  \n",
       "301859         OTHERAPP  2016.7.14  \n",
       "301860         OTHERAPP  2016.7.14  \n",
       "\n",
       "[301861 rows x 6 columns]"
      ]
     },
     "execution_count": 10,
     "metadata": {},
     "output_type": "execute_result"
    }
   ],
   "source": [
    "df2_pd"
   ]
  },
  {
   "cell_type": "code",
   "execution_count": null,
   "metadata": {},
   "outputs": [],
   "source": []
  }
 ],
 "metadata": {
  "kernelspec": {
   "display_name": "Python 3",
   "language": "python",
   "name": "python3"
  },
  "language_info": {
   "codemirror_mode": {
    "name": "ipython",
    "version": 3
   },
   "file_extension": ".py",
   "mimetype": "text/x-python",
   "name": "python",
   "nbconvert_exporter": "python",
   "pygments_lexer": "ipython3",
   "version": "3.8.3"
  }
 },
 "nbformat": 4,
 "nbformat_minor": 4
}
